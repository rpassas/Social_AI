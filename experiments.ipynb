{
 "cells": [
  {
   "cell_type": "code",
   "execution_count": null,
   "metadata": {
    "collapsed": true
   },
   "outputs": [],
   "source": [
    "from world import World \n",
    "import matplotlib.pyplot as plt"
   ]
  },
  {
   "cell_type": "markdown",
   "metadata": {},
   "source": [
    "## Default Experiment\n",
    "If we run the factory settings simulation, two \"agents of chaos\" shoot behaviors at each other and randomly adjust their behavior priors and predictions of the other based on the magnitude of their prediction error, if that error is sufficiently high. As you can see, the error does not decrease reliably over time."
   ]
  },
  {
   "cell_type": "code",
   "execution_count": null,
   "metadata": {
    "collapsed": true
   },
   "outputs": [],
   "source": [
    "world = World()\n",
    "world.create_agents()\n",
    "world.run()\n",
    "agents = world.get_agents()\n",
    "errors = world.get_errors()\n",
    "preds = world.get_pred()\n",
    "priors = world.get_priors()\n",
    "time = [t for t in range(len(errors[0]))]\n",
    "#world.print_results()"
   ]
  },
  {
   "cell_type": "code",
   "execution_count": null,
   "metadata": {
    "collapsed": true
   },
   "outputs": [],
   "source": [
    "plt.plot(time, errors[0], 'r',label=agents[0])\n",
    "plt.plot(time, errors[1], 'g', label=agents[1])\n",
    "plt.ylim([0, 1])\n",
    "plt.legend()\n",
    "plt.title(\"Agents of Chaos Prediction Error\")\n",
    "plt.show()"
   ]
  },
  {
   "cell_type": "markdown",
   "metadata": {},
   "source": [
    "## With a Dummy\n",
    "\n",
    "A dummy agent will keep a constant behavior. The chaotic agent will readjust its prediction as long as it is wrong, but not necessarily in the right direction. Sometimes the chaotic agent will reach the threshold and not adjust, but it is not guaranteed given the short time frame. However, the \"averaging\" agent, which takes an averaged features of the most recent 4 behaviors received as a benchmark for adjusting predictions, has a better chance at converging on the dummy's static behavior."
   ]
  },
  {
   "cell_type": "code",
   "execution_count": null,
   "metadata": {
    "collapsed": true
   },
   "outputs": [],
   "source": [
    "d_c_world = World(agent=[\"chaos\",\"dummy\"], seed=[1,2])\n",
    "d_c_world.create_agents()\n",
    "d_c_world.run()\n",
    "agents = d_c_world.get_agents()\n",
    "errors = d_c_world.get_errors()\n",
    "preds = d_c_world.get_pred()\n",
    "priors = d_c_world.get_priors()\n",
    "time = [t for t in range(len(errors[0]))]"
   ]
  },
  {
   "cell_type": "code",
   "execution_count": null,
   "metadata": {
    "collapsed": true
   },
   "outputs": [],
   "source": [
    "plt.plot(time, errors[0], 'r', label=agents[0])\n",
    "plt.ylim([0, 1])\n",
    "plt.legend()\n",
    "plt.title(\"Agent of Chaos Predicting a Dummy\")\n",
    "plt.show()"
   ]
  },
  {
   "cell_type": "code",
   "execution_count": null,
   "metadata": {
    "collapsed": true
   },
   "outputs": [],
   "source": [
    "d_a_world = World(agent=[\"average\",\"dummy\"], seed=[3,12], betas=[0.5,0.5])\n",
    "d_a_world.create_agents()\n",
    "d_a_world.run()\n",
    "agents = d_a_world.get_agents()\n",
    "errors = d_a_world.get_errors()\n",
    "preds = d_a_world.get_pred()\n",
    "priors = d_a_world.get_priors()\n",
    "time = [t for t in range(len(errors[0]))]"
   ]
  },
  {
   "cell_type": "code",
   "execution_count": null,
   "metadata": {
    "collapsed": true
   },
   "outputs": [],
   "source": [
    "plt.plot(time, errors[0], 'g', label=agents[0])\n",
    "plt.ylim([0, 1])\n",
    "plt.legend()\n",
    "plt.title(\"Averaging Agent Predicting a Dummy\")\n",
    "plt.show()"
   ]
  },
  {
   "cell_type": "markdown",
   "metadata": {},
   "source": [
    "## Pairing an averaging agent with a not-so-chaotic counterpart\n",
    "Instead of a dummy who has constant behavior, we can set a chaotic agent that has constant priors, but will still draw from the priors to generate variable behavior (within the bounds of those priors). The averaging agent should be able to approximate the priors, but not as easily as when the behavior was fixed."
   ]
  },
  {
   "cell_type": "code",
   "execution_count": null,
   "metadata": {
    "collapsed": true
   },
   "outputs": [],
   "source": [
    "c_a_world = World(agent=[\"average\",\"chaos\"], alphas=[0.5,0], betas=[0.5,0.2], seed=[17,115])\n",
    "c_a_world.create_agents()\n",
    "c_a_world.run()\n",
    "agents = c_a_world.get_agents()\n",
    "errors = c_a_world.get_errors()\n",
    "preds = c_a_world.get_pred()\n",
    "priors = c_a_world.get_priors()\n",
    "time = [t for t in range(len(errors[0]))]\n",
    "#c_a_world.print_results()"
   ]
  },
  {
   "cell_type": "code",
   "execution_count": null,
   "metadata": {
    "collapsed": true
   },
   "outputs": [],
   "source": [
    "plt.plot(time, errors[0], 'g', label=agents[0])\n",
    "plt.plot(time, errors[1], 'r', label=agents[1])\n",
    "plt.ylim([0, 1])\n",
    "plt.legend()\n",
    "plt.title(\"Averaging Agent + semi-dummy\")\n",
    "plt.show()"
   ]
  },
  {
   "cell_type": "markdown",
   "metadata": {},
   "source": [
    "## Two Average Joes\n",
    "We can have two averaging agents try to infer the other's priors."
   ]
  },
  {
   "cell_type": "code",
   "execution_count": null,
   "metadata": {
    "collapsed": true
   },
   "outputs": [],
   "source": [
    "a_a_world = World(agent=[\"average\",\"average\"], alphas=[0.5,0.5], betas=[0.2,0.2], seed=[17,150])\n",
    "a_a_world.create_agents()\n",
    "a_a_world.run()\n",
    "agents = a_a_world.get_agents()\n",
    "errors = a_a_world.get_errors()\n",
    "preds = a_a_world.get_pred()\n",
    "priors = a_a_world.get_priors()\n",
    "time = [t for t in range(len(errors[0]))]\n",
    "#c_a_world.print_results()"
   ]
  },
  {
   "cell_type": "code",
   "execution_count": null,
   "metadata": {
    "collapsed": true
   },
   "outputs": [],
   "source": [
    "plt.plot(time, errors[0], 'g', label=agents[0])\n",
    "plt.plot(time, errors[1], 'r', label=agents[1])\n",
    "plt.ylim([0, 1])\n",
    "plt.legend()\n",
    "plt.title(\"Averaging Agent x2\")\n",
    "plt.show()"
   ]
  },
  {
   "cell_type": "markdown",
   "metadata": {},
   "source": []
  },
  {
   "cell_type": "markdown",
   "metadata": {},
   "source": [
    "## Reducing Chaos\n",
    "It still looks a bit messy - what if we reduce the alphas (conformity adjustments)?"
   ]
  },
  {
   "cell_type": "code",
   "execution_count": null,
   "metadata": {
    "collapsed": true
   },
   "outputs": [],
   "source": [
    "a_a_world = World(agent=[\"average\",\"average\"], alphas=[0.1,0.1], betas=[0.2, 0.2], seed=[17,150])\n",
    "a_a_world.create_agents()\n",
    "a_a_world.run()\n",
    "agents = a_a_world.get_agents()\n",
    "errors = a_a_world.get_errors()\n",
    "preds = a_a_world.get_pred()\n",
    "priors = a_a_world.get_priors()\n",
    "time = [t for t in range(len(errors[0]))]\n",
    "#c_a_world.print_results()"
   ]
  },
  {
   "cell_type": "code",
   "execution_count": null,
   "metadata": {
    "collapsed": true
   },
   "outputs": [],
   "source": [
    "plt.plot(time, errors[0], 'g', label=agents[0])\n",
    "plt.plot(time, errors[1], 'r', label=agents[1])\n",
    "plt.ylim([0, 1])\n",
    "plt.legend()\n",
    "plt.title(\"Averaging Agent x2 - less chaos\")\n",
    "plt.show()"
   ]
  },
  {
   "cell_type": "markdown",
   "metadata": {},
   "source": [
    "## Tracking Past Predictions\n",
    "Instead of averaging the previous behaviors of others, we can make a prediction by sampling from priors, and then update them by averaging our previous predictions. Reminder: the averaging agent averages the behaviors of others and \n",
    "\n",
    "First, we pair a dummy with a prediction averaging agent."
   ]
  },
  {
   "cell_type": "code",
   "execution_count": null,
   "metadata": {
    "collapsed": true
   },
   "outputs": [],
   "source": [
    "d_p_world = World(agent=[\"dummy\",\"prediction\"], alphas=[0.3,0.3], betas=[0.3, 0.3], seed=[1,12])\n",
    "d_p_world.create_agents()\n",
    "d_p_world.run()\n",
    "agents = d_p_world.get_agents()\n",
    "errors = d_p_world.get_errors()\n",
    "preds = d_p_world.get_pred()\n",
    "priors = d_p_world.get_priors()\n",
    "time = [t for t in range(len(errors[0]))]\n",
    "#d_p_world.print_results()"
   ]
  },
  {
   "cell_type": "code",
   "execution_count": null,
   "metadata": {
    "collapsed": true
   },
   "outputs": [],
   "source": [
    "plt.plot(time, errors[0], 'g', label=agents[0])\n",
    "plt.plot(time, errors[1], 'r', label=agents[1])\n",
    "plt.ylim([0, 1])\n",
    "plt.legend()\n",
    "plt.title(\"Dummy x Prediction Average\")\n",
    "plt.show()"
   ]
  },
  {
   "cell_type": "code",
   "execution_count": null,
   "metadata": {
    "collapsed": true
   },
   "outputs": [],
   "source": [
    "p_p_world = World(agent=[\"prediction\",\"prediction\"], alphas=[0.3,0.3], betas=[0.3, 0.3], seed=[1,12])\n",
    "p_p_world.create_agents()\n",
    "p_p_world.run()\n",
    "agents = p_p_world.get_agents()\n",
    "errors = p_p_world.get_errors()\n",
    "preds = p_p_world.get_pred()\n",
    "priors = p_p_world.get_priors()\n",
    "time = [t for t in range(len(errors[0]))]\n",
    "#p_p_world.print_results()"
   ]
  },
  {
   "cell_type": "code",
   "execution_count": null,
   "metadata": {
    "collapsed": true
   },
   "outputs": [],
   "source": [
    "plt.plot(time, errors[0], 'g', label=agents[0])\n",
    "plt.plot(time, errors[1], 'r', label=agents[1])\n",
    "plt.ylim([0, 1])\n",
    "plt.legend()\n",
    "plt.title(\"Prediction Average x Prediction Average\")\n",
    "plt.show()"
   ]
  },
  {
   "cell_type": "markdown",
   "metadata": {},
   "source": [
    "# New model"
   ]
  },
  {
   "cell_type": "code",
   "execution_count": null,
   "metadata": {},
   "outputs": [],
   "source": [
    "import numpy as np\n",
    "np.exp(100)"
   ]
  },
  {
   "cell_type": "code",
   "execution_count": null,
   "metadata": {
    "collapsed": true
   },
   "outputs": [],
   "source": []
  },
  {
   "cell_type": "code",
   "execution_count": 55,
   "metadata": {},
   "outputs": [],
   "source": [
    "from world import World \n",
    "import matplotlib.pyplot as plt\n",
    "m_m_world = World(state_size = 100, time = 10, agent=[\"model\", \"model\"], memory=[1, 1], behav_control=[20, 20], seed=100)\n",
    "m_m_world.create_agents()\n",
    "m_m_world.run()\n",
    "agents = m_m_world.get_agents()\n",
    "errors = m_m_world.get_errors()\n",
    "preds = m_m_world.get_pred()\n",
    "priors = m_m_world.get_behav_priors()\n",
    "costs = m_m_world.get_costs()\n",
    "\n",
    "time = [t for t in range(len(costs[0]))]\n",
    "# m_m_world.print_results()"
   ]
  },
  {
   "cell_type": "code",
   "execution_count": 56,
   "metadata": {},
   "outputs": [
    {
     "data": {
      "image/png": "[encoded data removed]",
      "text/plain": [
       "<matplotlib.figure.Figure at 0x7f9e480e75c0>"
      ]
     },
     "metadata": {},
     "output_type": "display_data"
    }
   ],
   "source": [
    "plt.plot(time, costs[0], 'g', label=agents[0])\n",
    "plt.plot(time, costs[1], 'r', label=agents[1])\n",
    "plt.ylim([0, 1])\n",
    "plt.legend()\n",
    "plt.title(\"Averaging Agent x2\")\n",
    "plt.show()"
   ]
  },
  {
   "cell_type": "code",
   "execution_count": null,
   "metadata": {
    "collapsed": true
   },
   "outputs": [],
   "source": []
  },
  {
   "cell_type": "code",
   "execution_count": null,
   "metadata": {
    "collapsed": true
   },
   "outputs": [],
   "source": []
  },
  {
   "cell_type": "code",
   "execution_count": 57,
   "metadata": {},
   "outputs": [
    {
     "name": "stdout",
     "output_type": "stream",
     "text": [
      "0.935\n",
      "0.397\n",
      "0.353\n",
      "0.938\n",
      "0.151\n",
      "0.158\n",
      "0.873\n",
      "0.59\n",
      "0.918\n",
      "0.053\n",
      "0.015\n",
      "0.343\n",
      "0.388\n",
      "0.726\n",
      "0.65\n",
      "0.338\n",
      "0.545\n",
      "0.204\n",
      "0.056\n",
      "0.518\n",
      "0.373\n",
      "0.936\n",
      "0.064\n",
      "0.32\n",
      "0.478\n",
      "0.053\n",
      "0.909\n",
      "0.125\n",
      "0.699\n",
      "0.844\n",
      "0.11\n",
      "0.12\n",
      "0.163\n",
      "0.132\n",
      "0.031\n",
      "0.126\n",
      "0.333\n",
      "0.168\n",
      "0.832\n",
      "0.356\n",
      "0.835\n",
      "0.945\n",
      "0.614\n",
      "0.585\n",
      "0.994\n",
      "0.382\n",
      "0.205\n",
      "0.818\n",
      "0.368\n",
      "0.238\n",
      "0.346\n",
      "0.86\n",
      "0.961\n",
      "0.222\n",
      "0.136\n",
      "0.218\n",
      "0.975\n",
      "0.313\n",
      "0.305\n",
      "0.729\n",
      "0.435\n",
      "0.282\n",
      "0.889\n",
      "0.795\n",
      "0.528\n",
      "0.816\n",
      "0.126\n",
      "0.927\n",
      "0.751\n",
      "0.479\n",
      "0.028\n",
      "0.845\n",
      "0.493\n",
      "0.238\n",
      "0.887\n",
      "0.169\n",
      "0.745\n",
      "0.375\n",
      "0.875\n",
      "0.804\n",
      "0.174\n",
      "0.252\n",
      "0.362\n",
      "0.064\n",
      "0.489\n",
      "0.98\n",
      "0.35\n",
      "0.065\n",
      "0.239\n",
      "0.213\n",
      "0.059\n",
      "0.129\n",
      "0.472\n",
      "0.585\n",
      "0.414\n",
      "0.507\n",
      "0.908\n",
      "0.432\n",
      "0.195\n"
     ]
    }
   ],
   "source": [
    "for i in range(1,100):\n",
    "    print(priors[:,1][i,0])"
   ]
  },
  {
   "cell_type": "code",
   "execution_count": 54,
   "metadata": {},
   "outputs": [
    {
     "name": "stdout",
     "output_type": "stream",
     "text": [
      "0.935\n",
      "0.397\n",
      "0.353\n",
      "0.938\n",
      "0.151\n",
      "0.158\n",
      "0.873\n",
      "0.59\n",
      "0.918\n",
      "0.053\n",
      "0.015\n",
      "0.343\n",
      "0.388\n",
      "0.726\n",
      "0.65\n",
      "0.338\n",
      "0.545\n",
      "0.204\n",
      "0.056\n",
      "0.518\n",
      "0.373\n",
      "0.936\n",
      "0.064\n",
      "0.32\n",
      "0.478\n",
      "0.053\n",
      "0.909\n",
      "0.125\n",
      "0.699\n",
      "0.844\n",
      "0.11\n",
      "0.12\n",
      "0.163\n",
      "0.132\n",
      "0.031\n",
      "0.126\n",
      "0.333\n",
      "0.168\n",
      "0.832\n",
      "0.356\n",
      "0.835\n",
      "0.945\n",
      "0.614\n",
      "0.585\n",
      "0.994\n",
      "0.382\n",
      "0.205\n",
      "0.818\n",
      "0.368\n",
      "0.238\n",
      "0.346\n",
      "0.86\n",
      "0.961\n",
      "0.222\n",
      "0.136\n",
      "0.218\n",
      "0.975\n",
      "0.313\n",
      "0.305\n",
      "0.729\n",
      "0.435\n",
      "0.282\n",
      "0.889\n",
      "0.795\n",
      "0.528\n",
      "0.816\n",
      "0.126\n",
      "0.927\n",
      "0.751\n",
      "0.479\n",
      "0.028\n",
      "0.845\n",
      "0.493\n",
      "0.238\n",
      "0.887\n",
      "0.169\n",
      "0.745\n",
      "0.375\n",
      "0.875\n",
      "0.804\n",
      "0.174\n",
      "0.252\n",
      "0.362\n",
      "0.064\n",
      "0.489\n",
      "0.98\n",
      "0.35\n",
      "0.065\n",
      "0.239\n",
      "0.213\n",
      "0.059\n",
      "0.129\n",
      "0.472\n",
      "0.585\n",
      "0.414\n",
      "0.507\n",
      "0.908\n",
      "0.432\n",
      "0.195\n"
     ]
    }
   ],
   "source": [
    "for i in range(1,100):\n",
    "    print(priors[:,1][i,0])"
   ]
  },
  {
   "cell_type": "code",
   "execution_count": 52,
   "metadata": {},
   "outputs": [
    {
     "name": "stdout",
     "output_type": "stream",
     "text": [
      "0.935\n",
      "0.397\n",
      "0.353\n",
      "0.938\n",
      "0.151\n",
      "0.158\n",
      "0.873\n",
      "0.59\n",
      "0.918\n",
      "0.053\n",
      "0.015\n",
      "0.343\n",
      "0.388\n",
      "0.726\n",
      "0.65\n",
      "0.338\n",
      "0.545\n",
      "0.204\n",
      "0.056\n",
      "0.518\n",
      "0.373\n",
      "0.936\n",
      "0.064\n",
      "0.32\n",
      "0.478\n",
      "0.053\n",
      "0.909\n",
      "0.125\n",
      "0.699\n",
      "0.844\n",
      "0.11\n",
      "0.12\n",
      "0.163\n",
      "0.132\n",
      "0.031\n",
      "0.126\n",
      "0.333\n",
      "0.168\n",
      "0.832\n",
      "0.356\n",
      "0.835\n",
      "0.945\n",
      "0.614\n",
      "0.585\n",
      "0.994\n",
      "0.382\n",
      "0.205\n",
      "0.818\n",
      "0.368\n",
      "0.238\n",
      "0.346\n",
      "0.86\n",
      "0.961\n",
      "0.222\n",
      "0.136\n",
      "0.218\n",
      "0.975\n",
      "0.313\n",
      "0.305\n",
      "0.729\n",
      "0.435\n",
      "0.282\n",
      "0.889\n",
      "0.795\n",
      "0.528\n",
      "0.816\n",
      "0.126\n",
      "0.927\n",
      "0.751\n",
      "0.479\n",
      "0.028\n",
      "0.845\n",
      "0.493\n",
      "0.238\n",
      "0.887\n",
      "0.169\n",
      "0.745\n",
      "0.375\n",
      "0.875\n",
      "0.804\n",
      "0.174\n",
      "0.252\n",
      "0.362\n",
      "0.064\n",
      "0.489\n",
      "0.98\n",
      "0.35\n",
      "0.065\n",
      "0.239\n",
      "0.213\n",
      "0.059\n",
      "0.129\n",
      "0.472\n",
      "0.585\n",
      "0.414\n",
      "0.507\n",
      "0.908\n",
      "0.432\n",
      "0.195\n"
     ]
    }
   ],
   "source": [
    "for i in range(1,100):\n",
    "    print(priors[:,1][i,0])"
   ]
  },
  {
   "cell_type": "code",
   "execution_count": 47,
   "metadata": {},
   "outputs": [
    {
     "name": "stdout",
     "output_type": "stream",
     "text": [
      "0.78\n",
      "0.61\n",
      "0.309\n",
      "0.698\n",
      "0.86\n",
      "0.625\n",
      "0.982\n",
      "0.977\n",
      "0.167\n",
      "0.023\n",
      "0.161\n",
      "0.923\n",
      "0.954\n",
      "0.211\n",
      "0.361\n",
      "0.549\n",
      "0.272\n",
      "0.461\n",
      "0.696\n",
      "0.5\n",
      "0.716\n",
      "0.526\n",
      "0.001\n",
      "0.395\n",
      "0.492\n",
      "0.403\n",
      "0.354\n",
      "0.501\n",
      "0.445\n",
      "0.09\n",
      "0.274\n",
      "0.943\n",
      "0.027\n",
      "0.04\n",
      "0.283\n",
      "0.582\n",
      "0.991\n",
      "0.993\n",
      "0.993\n",
      "0.11\n",
      "0.664\n",
      "0.524\n",
      "0.173\n",
      "0.943\n",
      "0.242\n",
      "0.999\n",
      "0.583\n",
      "0.183\n",
      "0.387\n",
      "0.19\n",
      "0.411\n",
      "0.595\n",
      "0.717\n",
      "0.487\n",
      "0.31\n",
      "0.577\n",
      "0.442\n",
      "0.36\n",
      "0.321\n",
      "0.208\n",
      "0.451\n",
      "0.492\n",
      "0.899\n",
      "0.729\n",
      "0.77\n",
      "0.375\n",
      "0.344\n",
      "0.655\n",
      "0.711\n",
      "0.114\n",
      "0.133\n",
      "0.456\n",
      "0.16\n",
      "0.962\n",
      "0.838\n",
      "0.52\n",
      "0.218\n",
      "0.135\n",
      "0.979\n",
      "0.707\n",
      "0.86\n",
      "0.387\n",
      "0.251\n",
      "0.299\n",
      "0.857\n",
      "0.473\n",
      "0.663\n",
      "0.806\n",
      "0.253\n",
      "0.08\n",
      "0.733\n",
      "0.961\n",
      "0.954\n",
      "0.49\n",
      "0.632\n",
      "0.733\n",
      "0.902\n",
      "0.162\n",
      "0.406\n"
     ]
    }
   ],
   "source": [
    "for i in range(1,100):\n",
    "    print(preds[:,0][i,0])"
   ]
  },
  {
   "cell_type": "code",
   "execution_count": 43,
   "metadata": {},
   "outputs": [
    {
     "data": {
      "text/plain": [
       "0.68524890815873674"
      ]
     },
     "execution_count": 43,
     "metadata": {},
     "output_type": "execute_result"
    }
   ],
   "source": [
    "preds[:,0][0,1]"
   ]
  },
  {
   "cell_type": "code",
   "execution_count": null,
   "metadata": {
    "collapsed": true
   },
   "outputs": [],
   "source": []
  },
  {
   "cell_type": "code",
   "execution_count": null,
   "metadata": {},
   "outputs": [],
   "source": [
    "0.68524891"
   ]
  },
  {
   "cell_type": "code",
   "execution_count": 17,
   "metadata": {},
   "outputs": [
    {
     "data": {
      "text/plain": [
       "array([ 0.778     ,  0.68524891, -0.33509081,  0.41700247, -0.39723426,\n",
       "        0.40197702, -0.40083743,  0.40111115,  0.5989546 ,  0.6454171 ,\n",
       "        0.65597697,  0.65835609,  0.65889101,  0.65901123,  0.65903824,\n",
       "        0.65904431,  0.65904567,  0.65904598,  0.65904605,  0.65904606,\n",
       "        0.65904607,  0.65904607,  0.65904607,  0.65904607,  0.65904607,\n",
       "        0.65904607,  0.65904607,  0.65904607,  0.65904607,  0.65904607,\n",
       "        0.65904607,  0.65904607,  0.65904607,  0.65904607,  0.65904607,\n",
       "        0.65904607,  0.65904607,  0.65904607,  0.65904607,  0.65904607,\n",
       "        0.65904607,  0.65904607,  0.65904607,  0.65904607,  0.65904607,\n",
       "        0.65904607,  0.65904607,  0.65904607,  0.65904607,  0.65904607,\n",
       "        0.65904607,  0.65904607,  0.65904607,  0.65904607,  0.65904607,\n",
       "        0.65904607,  0.65904607,  0.65904607,  0.65904607,  0.65904607,\n",
       "       -0.34095393,  0.41557777,  0.60242457,  0.64621081,  0.65615607,\n",
       "        0.65839638,  0.65890006,  0.65901326,  0.6590387 ,  0.65904441,\n",
       "        0.6590457 ,  0.65904598,  0.65904605,  0.65904606,  0.65904607,\n",
       "        0.65904607,  0.65904607,  0.65904607,  0.65904607,  0.65904607,\n",
       "        0.65904607,  0.65904607,  0.65904607,  0.65904607,  0.65904607,\n",
       "        0.65904607,  0.65904607,  0.65904607,  0.65904607,  0.65904607,\n",
       "        0.65904607,  0.65904607,  0.65904607,  0.65904607,  0.65904607,\n",
       "        0.65904607,  0.65904607,  0.65904607,  0.65904607,  0.65904607,\n",
       "        0.65904607, -0.34095393,  0.41557777,  0.60242457,  0.64621081,\n",
       "        0.65615607,  0.65839638,  0.65890006,  0.65901326,  0.6590387 ,\n",
       "        0.65904441,  0.6590457 ,  0.65904598,  0.65904605,  0.65904606,\n",
       "        0.65904607,  0.65904607,  0.65904607,  0.65904607,  0.65904607,\n",
       "        0.65904607,  0.65904607,  0.65904607,  0.65904607,  0.65904607,\n",
       "        0.65904607,  0.65904607,  0.65904607,  0.65904607,  0.65904607,\n",
       "        0.65904607,  0.65904607,  0.65904607,  0.65904607,  0.65904607,\n",
       "        0.65904607,  0.65904607,  0.65904607,  0.65904607,  0.65904607,\n",
       "       -0.34095393,  0.41557777,  0.60242457,  0.64621081,  0.65615607,\n",
       "        0.65839638,  0.65890006,  0.65901326,  0.6590387 ,  0.65904441,\n",
       "        0.6590457 ,  0.65904598,  0.65904605,  0.65904606,  0.65904607,\n",
       "        0.65904607,  0.65904607,  0.65904607,  0.65904607,  0.65904607,\n",
       "        0.65904607,  0.65904607,  0.65904607,  0.65904607,  0.65904607,\n",
       "        0.65904607,  0.65904607,  0.65904607,  0.65904607,  0.65904607,\n",
       "        0.65904607, -0.34095393,  0.41557777,  0.60242457,  0.64621081,\n",
       "        0.65615607,  0.65839638,  0.65890006,  0.65901326,  0.6590387 ,\n",
       "        0.65904441,  0.6590457 ,  0.65904598,  0.65904605,  0.65904606,\n",
       "        0.65904607,  0.65904607,  0.65904607,  0.65904607,  0.65904607,\n",
       "        0.65904607,  0.65904607,  0.65904607,  0.65904607,  0.65904607,\n",
       "        0.65904607,  0.65904607,  0.65904607,  0.65904607,  0.65904607])"
      ]
     },
     "execution_count": 17,
     "metadata": {},
     "output_type": "execute_result"
    }
   ],
   "source": [
    "errors[:,0][0,:]"
   ]
  },
  {
   "cell_type": "code",
   "execution_count": null,
   "metadata": {},
   "outputs": [],
   "source": [
    "priors[:,0][:,0]"
   ]
  },
  {
   "cell_type": "code",
   "execution_count": null,
   "metadata": {},
   "outputs": [],
   "source": []
  },
  {
   "cell_type": "code",
   "execution_count": null,
   "metadata": {
    "collapsed": true
   },
   "outputs": [],
   "source": []
  },
  {
   "cell_type": "code",
   "execution_count": null,
   "metadata": {
    "collapsed": true
   },
   "outputs": [],
   "source": []
  },
  {
   "cell_type": "code",
   "execution_count": null,
   "metadata": {},
   "outputs": [],
   "source": [
    "import numpy as np\n",
    "np.random.randint"
   ]
  },
  {
   "cell_type": "code",
   "execution_count": null,
   "metadata": {},
   "outputs": [],
   "source": [
    "1 / (1 + np.exp(10))"
   ]
  },
  {
   "cell_type": "code",
   "execution_count": null,
   "metadata": {},
   "outputs": [],
   "source": [
    "np.random.choice([-1,1])"
   ]
  },
  {
   "cell_type": "code",
   "execution_count": null,
   "metadata": {},
   "outputs": [],
   "source": [
    "np.random.uniform(0, 1)"
   ]
  },
  {
   "cell_type": "code",
   "execution_count": null,
   "metadata": {
    "collapsed": true
   },
   "outputs": [],
   "source": []
  }
 ],
 "metadata": {
  "interpreter": {
   "hash": "cd78fef2128015050713e82ca51c6520b11aee7c9ee8df750520bbbc7384cbaa"
  },
  "kernelspec": {
   "display_name": "Python 3",
   "language": "python",
   "name": "python3"
  },
  "language_info": {
   "codemirror_mode": {
    "name": "ipython",
    "version": 3
   },
   "file_extension": ".py",
   "mimetype": "text/x-python",
   "name": "python",
   "nbconvert_exporter": "python",
   "pygments_lexer": "ipython3",
   "version": "3.6.1"
  }
 },
 "nbformat": 4,
 "nbformat_minor": 2
}
