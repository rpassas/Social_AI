{
 "cells": [
  {
   "cell_type": "code",
   "execution_count": 114,
   "metadata": {},
   "outputs": [],
   "source": [
    "import matplotlib.pyplot as plt\n",
    "import numpy as np\n",
    "import scipy.stats as sp\n",
    "import itertools as it\n",
    "import math\n",
    "import sys\n",
    "sys.path.append('../')\n",
    "from agents.agent import Agent\n",
    "from agents.utils.utility import sigmoid_update, linear_update\n"
   ]
  },
  {
   "cell_type": "markdown",
   "metadata": {},
   "source": [
    "### Idea\n",
    "If I have a good estimate of your prior and of your error, can I learn your internal model M across time steps?\n",
    "<br/>\n",
    "Let's start by assuming I have a perfect estimate of your priors and error"
   ]
  },
  {
   "cell_type": "code",
   "execution_count": 115,
   "metadata": {},
   "outputs": [
    {
     "name": "stdout",
     "output_type": "stream",
     "text": [
      "[0.97798951]\n"
     ]
    }
   ],
   "source": [
    "# agent\n",
    "a = Agent(state_size=1, model_var=0, prediction=\"sigmoid\", behavior=\"sigmoid\", attention=\"static\", seed=7)\n",
    "# error the agent is being fed\n",
    "time = 5\n",
    "#noise = np.random.uniform(0,1,50)\n",
    "#print(noise)\n",
    "#e_in = np.linspace(1, 0.1, time)\n",
    "#e_in = e_in * noise\n",
    "#print(e_in)\n",
    "print(a.get_behav_model())\n"
   ]
  },
  {
   "cell_type": "code",
   "execution_count": 116,
   "metadata": {},
   "outputs": [
    {
     "name": "stdout",
     "output_type": "stream",
     "text": [
      "behaviors:  [1 0 0 1 1]\n"
     ]
    }
   ],
   "source": [
    "behaviors = np.random.choice([0, 1], size=(time,), p=[1./3, 2./3])\n",
    "print(\"behaviors: \", behaviors)"
   ]
  },
  {
   "cell_type": "code",
   "execution_count": 117,
   "metadata": {},
   "outputs": [
    {
     "name": "stdout",
     "output_type": "stream",
     "text": [
      "errors:  [0.614421736848592, -0.5370530390093043, -0.40406191104371686, 0.6883958886461468]\n",
      "priors:  [0.8442932825298948, 0.9081642599612204, 0.8539834046210683, 0.7975454113975015]\n"
     ]
    }
   ],
   "source": [
    "# for each time step, send a behavior, get a prior, get error\n",
    "errors = []\n",
    "priors = []\n",
    "m_hat = 0.5\n",
    "for t in range(time):\n",
    "    bp = a.get_behav_priors()\n",
    "    priors.append(bp[0])\n",
    "    a.get_world([behaviors[t]])\n",
    "    dif, avg_abs_error = a.behavior_prediction_error()\n",
    "    errors.append(dif[0])\n",
    "    a.learn_conform()\n",
    "    a.learn_predict_world()\n",
    "print(\"errors: \", errors[:4])\n",
    "print(\"priors: \", priors[:4])\n"
   ]
  },
  {
   "cell_type": "code",
   "execution_count": 118,
   "metadata": {},
   "outputs": [],
   "source": [
    "def update_weights(m, X, Y, learning_rate):\n",
    "    m_deriv = 0\n",
    "    #b_deriv = 0\n",
    "    N = len(X)\n",
    "    for i in range(N-1):\n",
    "        # Calculate partial derivatives\n",
    "        # -2x(y - (mx + b))\n",
    "        #m_deriv += -2*X[i] * (Y[i+1] - (m*X[i]+Y[i]))\n",
    "        e = X[i]*m\n",
    "        m_deriv -= ( (2*m*(1-Y[i])*np.exp(-e)) * (Y[i+1]-(1 / ((((1-Y[i])*np.exp(-e))/Y[i]) + 1))) / (Y[i]*( ((((1-Y[i])*np.exp(-e))/Y[i]) + 1) ** 2)) )\n",
    "        #m_deriv += sigmoid_update(prev=Y[i], error=[e])\n",
    "\n",
    "        # -2(y - (mx + b))\n",
    "        #b_deriv += -2*(Y[i] - (m*X[i] + b))\n",
    "\n",
    "    # We subtract because the derivatives point in direction of steepest ascent\n",
    "    m -= (m_deriv / float(N-1)) * learning_rate\n",
    "    #b -= (b_deriv / float(N)) * learning_rate\n",
    "\n",
    "    return m"
   ]
  },
  {
   "cell_type": "code",
   "execution_count": 119,
   "metadata": {},
   "outputs": [
    {
     "name": "stdout",
     "output_type": "stream",
     "text": [
      "m_hat:  0.5000719188695288\n",
      "m:  [0.97798951]\n"
     ]
    }
   ],
   "source": [
    "m_hat = update_weights(m_hat, errors, priors, .5)\n",
    "m = a.get_behav_model()\n",
    "print(\"m_hat: \", m_hat)\n",
    "#print(\"b: \", b)\n",
    "print(\"m: \", m)"
   ]
  },
  {
   "cell_type": "code",
   "execution_count": null,
   "metadata": {},
   "outputs": [],
   "source": []
  },
  {
   "cell_type": "code",
   "execution_count": null,
   "metadata": {},
   "outputs": [],
   "source": []
  },
  {
   "cell_type": "code",
   "execution_count": null,
   "metadata": {},
   "outputs": [],
   "source": []
  }
 ],
 "metadata": {
  "interpreter": {
   "hash": "cd78fef2128015050713e82ca51c6520b11aee7c9ee8df750520bbbc7384cbaa"
  },
  "kernelspec": {
   "display_name": "Python 3.9.7 ('base')",
   "language": "python",
   "name": "python3"
  },
  "language_info": {
   "codemirror_mode": {
    "name": "ipython",
    "version": 3
   },
   "file_extension": ".py",
   "mimetype": "text/x-python",
   "name": "python",
   "nbconvert_exporter": "python",
   "pygments_lexer": "ipython3",
   "version": "3.9.7"
  },
  "orig_nbformat": 4
 },
 "nbformat": 4,
 "nbformat_minor": 2
}
