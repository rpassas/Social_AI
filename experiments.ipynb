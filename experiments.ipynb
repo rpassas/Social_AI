{
 "cells": [
  {
   "cell_type": "code",
   "execution_count": null,
   "metadata": {
    "collapsed": true
   },
   "outputs": [],
   "source": [
    "from world import World \n",
    "import matplotlib.pyplot as plt"
   ]
  },
  {
   "cell_type": "markdown",
   "metadata": {},
   "source": [
    "## Default Experiment\n",
    "If we run the factory settings simulation, two \"agents of chaos\" shoot behaviors at each other and randomly adjust their behavior priors and predictions of the other based on the magnitude of their prediction error, if that error is sufficiently high. As you can see, the error does not decrease reliably over time."
   ]
  },
  {
   "cell_type": "code",
   "execution_count": null,
   "metadata": {
    "collapsed": true
   },
   "outputs": [],
   "source": [
    "world = World()\n",
    "world.create_agents()\n",
    "world.run()\n",
    "agents = world.get_agents()\n",
    "errors = world.get_errors()\n",
    "preds = world.get_pred()\n",
    "priors = world.get_priors()\n",
    "time = [t for t in range(len(errors[0]))]\n",
    "#world.print_results()"
   ]
  },
  {
   "cell_type": "code",
   "execution_count": null,
   "metadata": {},
   "outputs": [],
   "source": [
    "plt.plot(time, errors[0], 'r',label=agents[0])\n",
    "plt.plot(time, errors[1], 'g', label=agents[1])\n",
    "plt.ylim([0, 1])\n",
    "plt.legend()\n",
    "plt.title(\"Agents of Chaos Prediction Error\")\n",
    "plt.show()"
   ]
  },
  {
   "cell_type": "markdown",
   "metadata": {},
   "source": [
    "## With a Dummy\n",
    "\n",
    "A dummy agent will keep a constant behavior. The chaotic agent will readjust its prediction as long as it is wrong, but not necessarily in the right direction. Sometimes the chaotic agent will reach the threshold and not adjust, but it is not guaranteed given the short time frame. However, the \"averaging\" agent, which takes an averaged features of the most recent 4 behaviors received as a benchmark for adjusting predictions, has a better chance at converging on the dummy's static behavior."
   ]
  },
  {
   "cell_type": "code",
   "execution_count": null,
   "metadata": {
    "collapsed": true
   },
   "outputs": [],
   "source": [
    "d_c_world = World(agent=[\"chaos\",\"dummy\"], seed=[1,2])\n",
    "d_c_world.create_agents()\n",
    "d_c_world.run()\n",
    "agents = d_c_world.get_agents()\n",
    "errors = d_c_world.get_errors()\n",
    "preds = d_c_world.get_pred()\n",
    "priors = d_c_world.get_priors()\n",
    "time = [t for t in range(len(errors[0]))]"
   ]
  },
  {
   "cell_type": "code",
   "execution_count": null,
   "metadata": {},
   "outputs": [],
   "source": [
    "plt.plot(time, errors[0], 'r', label=agents[0])\n",
    "plt.ylim([0, 1])\n",
    "plt.legend()\n",
    "plt.title(\"Agent of Chaos Predicting a Dummy\")\n",
    "plt.show()"
   ]
  },
  {
   "cell_type": "code",
   "execution_count": null,
   "metadata": {
    "collapsed": true
   },
   "outputs": [],
   "source": [
    "d_a_world = World(agent=[\"average\",\"dummy\"], seed=[3,12], betas=[0.5,0.5])\n",
    "d_a_world.create_agents()\n",
    "d_a_world.run()\n",
    "agents = d_a_world.get_agents()\n",
    "errors = d_a_world.get_errors()\n",
    "preds = d_a_world.get_pred()\n",
    "priors = d_a_world.get_priors()\n",
    "time = [t for t in range(len(errors[0]))]"
   ]
  },
  {
   "cell_type": "code",
   "execution_count": null,
   "metadata": {},
   "outputs": [],
   "source": [
    "plt.plot(time, errors[0], 'g', label=agents[0])\n",
    "plt.ylim([0, 1])\n",
    "plt.legend()\n",
    "plt.title(\"Averaging Agent Predicting a Dummy\")\n",
    "plt.show()"
   ]
  },
  {
   "cell_type": "markdown",
   "metadata": {},
   "source": [
    "## Pairing an averaging agent with a not-so-chaotic counterpart\n",
    "Instead of a dummy who has constant behavior, we can set a chaotic agent that has constant priors, but will still draw from the priors to generate variable behavior (within the bounds of those priors). The averaging agent should be able to approximate the priors, but not as easily as when the behavior was fixed."
   ]
  },
  {
   "cell_type": "code",
   "execution_count": null,
   "metadata": {
    "collapsed": true
   },
   "outputs": [],
   "source": [
    "c_a_world = World(agent=[\"average\",\"chaos\"], alphas=[0.5,0], betas=[0.5,0.2], seed=[17,115])\n",
    "c_a_world.create_agents()\n",
    "c_a_world.run()\n",
    "agents = c_a_world.get_agents()\n",
    "errors = c_a_world.get_errors()\n",
    "preds = c_a_world.get_pred()\n",
    "priors = c_a_world.get_priors()\n",
    "time = [t for t in range(len(errors[0]))]\n",
    "#c_a_world.print_results()"
   ]
  },
  {
   "cell_type": "code",
   "execution_count": null,
   "metadata": {},
   "outputs": [],
   "source": [
    "plt.plot(time, errors[0], 'g', label=agents[0])\n",
    "plt.plot(time, errors[1], 'r', label=agents[1])\n",
    "plt.ylim([0, 1])\n",
    "plt.legend()\n",
    "plt.title(\"Averaging Agent + semi-dummy\")\n",
    "plt.show()"
   ]
  },
  {
   "cell_type": "markdown",
   "metadata": {},
   "source": [
    "## Two Average Joes\n",
    "We can have two averaging agents try to infer the other's priors."
   ]
  },
  {
   "cell_type": "code",
   "execution_count": null,
   "metadata": {},
   "outputs": [],
   "source": [
    "a_a_world = World(agent=[\"average\",\"average\"], alphas=[0.5,0.5], betas=[0.2,0.2], seed=[17,150])\n",
    "a_a_world.create_agents()\n",
    "a_a_world.run()\n",
    "agents = a_a_world.get_agents()\n",
    "errors = a_a_world.get_errors()\n",
    "preds = a_a_world.get_pred()\n",
    "priors = a_a_world.get_priors()\n",
    "time = [t for t in range(len(errors[0]))]\n",
    "#c_a_world.print_results()"
   ]
  },
  {
   "cell_type": "code",
   "execution_count": null,
   "metadata": {},
   "outputs": [],
   "source": [
    "plt.plot(time, errors[0], 'g', label=agents[0])\n",
    "plt.plot(time, errors[1], 'r', label=agents[1])\n",
    "plt.ylim([0, 1])\n",
    "plt.legend()\n",
    "plt.title(\"Averaging Agent x2\")\n",
    "plt.show()"
   ]
  },
  {
   "cell_type": "markdown",
   "metadata": {},
   "source": []
  },
  {
   "cell_type": "markdown",
   "metadata": {},
   "source": [
    "## Reducing Chaos\n",
    "It still looks a bit messy - what if we reduce the alphas (conformity adjustments)?"
   ]
  },
  {
   "cell_type": "code",
   "execution_count": null,
   "metadata": {
    "collapsed": true
   },
   "outputs": [],
   "source": [
    "a_a_world = World(agent=[\"average\",\"average\"], alphas=[0.1,0.1], betas=[0.2, 0.2], seed=[17,150])\n",
    "a_a_world.create_agents()\n",
    "a_a_world.run()\n",
    "agents = a_a_world.get_agents()\n",
    "errors = a_a_world.get_errors()\n",
    "preds = a_a_world.get_pred()\n",
    "priors = a_a_world.get_priors()\n",
    "time = [t for t in range(len(errors[0]))]\n",
    "#c_a_world.print_results()"
   ]
  },
  {
   "cell_type": "code",
   "execution_count": null,
   "metadata": {},
   "outputs": [],
   "source": [
    "plt.plot(time, errors[0], 'g', label=agents[0])\n",
    "plt.plot(time, errors[1], 'r', label=agents[1])\n",
    "plt.ylim([0, 1])\n",
    "plt.legend()\n",
    "plt.title(\"Averaging Agent x2 - less chaos\")\n",
    "plt.show()"
   ]
  },
  {
   "cell_type": "markdown",
   "metadata": {},
   "source": [
    "## Tracking Past Predictions\n",
    "Instead of averaging the previous behaviors of others, we can make a prediction by sampling from priors, and then update them by averaging our previous predictions. Reminder: the averaging agent averages the behaviors of others and \n",
    "\n",
    "First, we pair a dummy with a prediction averaging agent."
   ]
  },
  {
   "cell_type": "code",
   "execution_count": null,
   "metadata": {
    "collapsed": true
   },
   "outputs": [],
   "source": [
    "d_p_world = World(agent=[\"dummy\",\"prediction\"], alphas=[0.3,0.3], betas=[0.3, 0.3], seed=[1,12])\n",
    "d_p_world.create_agents()\n",
    "d_p_world.run()\n",
    "agents = d_p_world.get_agents()\n",
    "errors = d_p_world.get_errors()\n",
    "preds = d_p_world.get_pred()\n",
    "priors = d_p_world.get_priors()\n",
    "time = [t for t in range(len(errors[0]))]\n",
    "#d_p_world.print_results()"
   ]
  },
  {
   "cell_type": "code",
   "execution_count": null,
   "metadata": {},
   "outputs": [],
   "source": [
    "plt.plot(time, errors[0], 'g', label=agents[0])\n",
    "plt.plot(time, errors[1], 'r', label=agents[1])\n",
    "plt.ylim([0, 1])\n",
    "plt.legend()\n",
    "plt.title(\"Dummy x Prediction Average\")\n",
    "plt.show()"
   ]
  },
  {
   "cell_type": "code",
   "execution_count": null,
   "metadata": {
    "collapsed": true
   },
   "outputs": [],
   "source": [
    "p_p_world = World(agent=[\"prediction\",\"prediction\"], alphas=[0.3,0.3], betas=[0.3, 0.3], seed=[1,12])\n",
    "p_p_world.create_agents()\n",
    "p_p_world.run()\n",
    "agents = p_p_world.get_agents()\n",
    "errors = p_p_world.get_errors()\n",
    "preds = p_p_world.get_pred()\n",
    "priors = p_p_world.get_priors()\n",
    "time = [t for t in range(len(errors[0]))]\n",
    "#p_p_world.print_results()"
   ]
  },
  {
   "cell_type": "code",
   "execution_count": null,
   "metadata": {},
   "outputs": [],
   "source": [
    "plt.plot(time, errors[0], 'g', label=agents[0])\n",
    "plt.plot(time, errors[1], 'r', label=agents[1])\n",
    "plt.ylim([0, 1])\n",
    "plt.legend()\n",
    "plt.title(\"Prediction Average x Prediction Average\")\n",
    "plt.show()"
   ]
  },
  {
   "cell_type": "markdown",
   "metadata": {},
   "source": [
    "# New model"
   ]
  },
  {
   "cell_type": "code",
   "execution_count": 1,
   "metadata": {},
   "outputs": [
    {
     "name": "stderr",
     "output_type": "stream",
     "text": [
      "/Users/amory/github/Social_AI/agent_with_model.py:194: RuntimeWarning: overflow encountered in exp\n",
      "  return 1 / (1 + np.exp(-x))\n"
     ]
    }
   ],
   "source": [
    "from world import World \n",
    "import matplotlib.pyplot as plt\n",
    "m_m_world = World(state_size = 100, time = 200, agent=[\"model\", \"model\"], memory=[0, 0], behav_control=[0, 0])\n",
    "m_m_world.create_agents()\n",
    "m_m_world.run()\n",
    "agents = m_m_world.get_agents()\n",
    "errors = m_m_world.get_errors()\n",
    "preds = m_m_world.get_pred()\n",
    "priors = m_m_world.get_behav_priors()\n",
    "time = [t for t in range(len(errors[0]))]\n",
    "# m_m_world.print_results()"
   ]
  },
  {
   "cell_type": "code",
   "execution_count": 2,
   "metadata": {},
   "outputs": [
    {
     "data": {
      "image/png": "[encoded data removed]",
      "text/plain": [
       "<matplotlib.figure.Figure at 0x7ff028620ba8>"
      ]
     },
     "metadata": {},
     "output_type": "display_data"
    }
   ],
   "source": [
    "plt.plot(time, errors[0], 'g', label=agents[0])\n",
    "plt.plot(time, errors[1], 'r', label=agents[1])\n",
    "plt.ylim([0, 1])\n",
    "plt.legend()\n",
    "plt.title(\"Averaging Agent x2\")\n",
    "plt.show()"
   ]
  },
  {
   "cell_type": "code",
   "execution_count": null,
   "metadata": {},
   "outputs": [],
   "source": [
    "priors[:,1]"
   ]
  },
  {
   "cell_type": "code",
   "execution_count": null,
   "metadata": {},
   "outputs": [],
   "source": [
    "preds[:,1]"
   ]
  },
  {
   "cell_type": "code",
   "execution_count": null,
   "metadata": {
    "collapsed": true
   },
   "outputs": [],
   "source": []
  },
  {
   "cell_type": "code",
   "execution_count": null,
   "metadata": {},
   "outputs": [],
   "source": [
    "import numpy as np\n",
    "\n",
    "np.random.rand(10,10)"
   ]
  },
  {
   "cell_type": "code",
   "execution_count": null,
   "metadata": {},
   "outputs": [],
   "source": [
    "p_p_world.agents[1]."
   ]
  },
  {
   "cell_type": "code",
   "execution_count": null,
   "metadata": {
    "collapsed": true
   },
   "outputs": [],
   "source": [
    "# generate behaviors\n",
    "prior = []\n",
    "behavior = []\n",
    "for i in range(len(p_p_world.agents)):\n",
    "    b = p_p_world.agents[i].make_behavior()\n",
    "    p = p_p_world.agents[i].get_behav_priors()\n",
    "    behavior.append(b)\n",
    "    prior.append(p)\n",
    "    # print(\"behavior of agent {}: \".format(i) + str(behavior))\n",
    "p_p_world.behaviors.append(behavior)\n",
    "p_p_world.b_priors.append(prior)\n",
    "\n",
    "# receive behaviors, predict, learn\n",
    "# will have to be updated for multi agents\n",
    "prediction = []\n",
    "error = []\n",
    "cost = []\n",
    "for i in range(len(p_p_world.agents)):\n",
    "    if i == 0:\n",
    "        # agent 0 gets agent 1's behavior\n",
    "        p_p_world.agents[i].get_world(p_p_world.behaviors[-1][1])\n",
    "    else:\n",
    "        # agent 1 gets agent 0's behavior\n",
    "        p_p_world.agents[i].get_world(p_p_world.behaviors[-1][0])\n",
    "    p = p_p_world.agents[i].make_prediction()\n",
    "    dif, avg_abs_error = p_p_world.agents[i].behavior_prediction_error()"
   ]
  },
  {
   "cell_type": "code",
   "execution_count": null,
   "metadata": {
    "collapsed": true
   },
   "outputs": [],
   "source": []
  },
  {
   "cell_type": "code",
   "execution_count": null,
   "metadata": {},
   "outputs": [],
   "source": [
    "a1"
   ]
  },
  {
   "cell_type": "code",
   "execution_count": null,
   "metadata": {},
   "outputs": [],
   "source": [
    "avg_abs_error"
   ]
  },
  {
   "cell_type": "code",
   "execution_count": null,
   "metadata": {
    "collapsed": true
   },
   "outputs": [],
   "source": [
    "from agent_with_model import Agent_with_Model\n",
    "a1 = Agent_with_Model(state_size = 1000, alpha = 1, beta = 1, memory = 4)"
   ]
  },
  {
   "cell_type": "code",
   "execution_count": null,
   "metadata": {},
   "outputs": [],
   "source": [
    "dif = a1.make_prediction() - a1.make_behavior()\n",
    "a1.behav_model @ a1.attn @ dif"
   ]
  },
  {
   "cell_type": "code",
   "execution_count": null,
   "metadata": {},
   "outputs": [],
   "source": [
    "a1.past_priors"
   ]
  },
  {
   "cell_type": "code",
   "execution_count": null,
   "metadata": {},
   "outputs": [],
   "source": [
    "m_m_world.agents["
   ]
  },
  {
   "cell_type": "code",
   "execution_count": null,
   "metadata": {},
   "outputs": [],
   "source": [
    "mem = min(a1.memory, len(a1.past_predictions))"
   ]
  },
  {
   "cell_type": "code",
   "execution_count": null,
   "metadata": {},
   "outputs": [],
   "source": [
    "for m in range(2, mem):\n",
    "    print(m)"
   ]
  },
  {
   "cell_type": "code",
   "execution_count": null,
   "metadata": {
    "collapsed": true
   },
   "outputs": [],
   "source": []
  },
  {
   "cell_type": "code",
   "execution_count": null,
   "metadata": {
    "collapsed": true
   },
   "outputs": [],
   "source": [
    "a"
   ]
  },
  {
   "cell_type": "markdown",
   "metadata": {},
   "source": [
    "# Jordan debugging\n"
   ]
  },
  {
   "cell_type": "code",
   "execution_count": null,
   "metadata": {},
   "outputs": [],
   "source": [
    "from agent_with_model import Agent_with_Model\n",
    "a1 = Agent_with_Model(state_size = 1000, alpha = 1, beta = 1, memory = 4)"
   ]
  },
  {
   "cell_type": "code",
   "execution_count": null,
   "metadata": {},
   "outputs": [],
   "source": [
    "a1.attn.shape"
   ]
  },
  {
   "cell_type": "code",
   "execution_count": null,
   "metadata": {},
   "outputs": [],
   "source": [
    "a1.get_behav_priors()"
   ]
  },
  {
   "cell_type": "code",
   "execution_count": null,
   "metadata": {
    "collapsed": true
   },
   "outputs": [],
   "source": [
    "behav = a1.make_behavior()\n",
    "pred = a1.make_prediction()"
   ]
  },
  {
   "cell_type": "code",
   "execution_count": null,
   "metadata": {},
   "outputs": [],
   "source": [
    "behav"
   ]
  },
  {
   "cell_type": "code",
   "execution_count": null,
   "metadata": {},
   "outputs": [],
   "source": [
    "np.sum(pred - behav)/len(pred)"
   ]
  },
  {
   "cell_type": "code",
   "execution_count": null,
   "metadata": {},
   "outputs": [],
   "source": [
    "[np.asarray([g-h\n",
    "                           for g, h in zip(pred, behav)])][0]"
   ]
  },
  {
   "cell_type": "code",
   "execution_count": null,
   "metadata": {},
   "outputs": [],
   "source": [
    "test = zip(pred, behav)"
   ]
  },
  {
   "cell_type": "code",
   "execution_count": null,
   "metadata": {},
   "outputs": [],
   "source": [
    "for g, h in test:\n",
    "    print(h)"
   ]
  },
  {
   "cell_type": "code",
   "execution_count": null,
   "metadata": {},
   "outputs": [],
   "source": [
    "a1.make_behavior()"
   ]
  },
  {
   "cell_type": "code",
   "execution_count": null,
   "metadata": {},
   "outputs": [],
   "source": [
    "import numpy as np\n",
    "np.random.binomial(1, 0.5)"
   ]
  },
  {
   "cell_type": "code",
   "execution_count": null,
   "metadata": {
    "collapsed": true
   },
   "outputs": [],
   "source": []
  },
  {
   "cell_type": "code",
   "execution_count": null,
   "metadata": {
    "collapsed": true
   },
   "outputs": [],
   "source": []
  }
 ],
 "metadata": {
  "interpreter": {
   "hash": "cd78fef2128015050713e82ca51c6520b11aee7c9ee8df750520bbbc7384cbaa"
  },
  "kernelspec": {
   "display_name": "Python 3",
   "language": "python",
   "name": "python3"
  },
  "language_info": {
   "codemirror_mode": {
    "name": "ipython",
    "version": 3
   },
   "file_extension": ".py",
   "mimetype": "text/x-python",
   "name": "python",
   "nbconvert_exporter": "python",
   "pygments_lexer": "ipython3",
   "version": "3.6.1"
  }
 },
 "nbformat": 4,
 "nbformat_minor": 2
}
