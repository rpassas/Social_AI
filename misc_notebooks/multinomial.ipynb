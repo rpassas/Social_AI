{
 "cells": [
  {
   "cell_type": "code",
   "execution_count": 49,
   "metadata": {},
   "outputs": [],
   "source": [
    "import numpy as np\n",
    "import matplotlib.pyplot as plt\n",
    "import seaborn as sns\n",
    "\n",
    "def plot_priors(matrix, xlabels = list(range(9)), ylabels = list(range(9)), title_str = \"prior distributions\"):\n",
    "    \"\"\"\n",
    "    Plots a 2-D likelihood matrix as a heatmap\n",
    "    \"\"\"\n",
    "\n",
    "    if not np.isclose(matrix.sum(axis=1), 1.0).all():\n",
    "      raise ValueError(\"Distribution not column-normalized! Please normalize (ensure matrix.sum(axis=1) == 1.0 for all columns)\")\n",
    "    \n",
    "    fig = plt.figure(figsize = (6,6))\n",
    "    ax = sns.heatmap(matrix, xticklabels = xlabels, yticklabels = ylabels, cmap = 'gray', cbar = False, vmin = 0.0, vmax = 1.0)\n",
    "    plt.title(title_str)\n",
    "    plt.show()"
   ]
  },
  {
   "cell_type": "code",
   "execution_count": 57,
   "metadata": {},
   "outputs": [],
   "source": [
    "state_size = 5\n",
    "feature_dim = 5\n",
    "priors = np.eye(feature_dim, state_size)\n",
    "priors[0,0] = 0.1\n",
    "priors[0,1] = 0.8\n",
    "priors[0,2] = 0.1\n",
    "\n",
    "priors[1,1] = 0.1\n",
    "priors[1,2] = 0.8\n",
    "priors[1,3] = 0.1\n",
    "\n",
    "priors[2,0] = 0.9\n",
    "priors[2,1] = 0.1\n",
    "priors[2,2] = 0\n",
    "\n",
    "priors[3,2] = 0.1\n",
    "priors[3,3] = 0.8\n",
    "priors[3,4] = 0.1\n",
    "\n",
    "priors[4,2] = 0.1\n",
    "priors[4,3] = 0.8\n",
    "priors[4,4] = 0.1\n"
   ]
  },
  {
   "cell_type": "code",
   "execution_count": 58,
   "metadata": {},
   "outputs": [
    {
     "data": {
      "image/png": "[encoded data removed]",
      "text/plain": [
       "<Figure size 432x432 with 1 Axes>"
      ]
     },
     "metadata": {
      "needs_background": "light"
     },
     "output_type": "display_data"
    }
   ],
   "source": [
    "plot_priors(priors, xlabels = list(range(4)), ylabels = list(range(4)), title_str = \"sample prior distributions p(b)\")"
   ]
  },
  {
   "cell_type": "code",
   "execution_count": 59,
   "metadata": {},
   "outputs": [
    {
     "name": "stdout",
     "output_type": "stream",
     "text": [
      "[0.1 0.8 0.1 0.  0. ]\n"
     ]
    }
   ],
   "source": [
    "print(priors[0])"
   ]
  },
  {
   "cell_type": "code",
   "execution_count": null,
   "metadata": {},
   "outputs": [],
   "source": []
  }
 ],
 "metadata": {
  "interpreter": {
   "hash": "cd78fef2128015050713e82ca51c6520b11aee7c9ee8df750520bbbc7384cbaa"
  },
  "kernelspec": {
   "display_name": "Python 3.9.7 ('base')",
   "language": "python",
   "name": "python3"
  },
  "language_info": {
   "codemirror_mode": {
    "name": "ipython",
    "version": 3
   },
   "file_extension": ".py",
   "mimetype": "text/x-python",
   "name": "python",
   "nbconvert_exporter": "python",
   "pygments_lexer": "ipython3",
   "version": "3.9.7"
  },
  "orig_nbformat": 4
 },
 "nbformat": 4,
 "nbformat_minor": 2
}
