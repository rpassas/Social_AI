{
 "cells": [
  {
   "cell_type": "code",
   "execution_count": null,
   "metadata": {
    "collapsed": true
   },
   "outputs": [],
   "source": [
    "from world import World \n",
    "import matplotlib.pyplot as plt"
   ]
  },
  {
   "cell_type": "markdown",
   "metadata": {},
   "source": [
    "## Default Experiment\n",
    "If we run the factory settings simulation, two \"agents of chaos\" shoot behaviors at each other and randomly adjust their behavior priors and predictions of the other based on the magnitude of their prediction error, if that error is sufficiently high. As you can see, the error does not decrease reliably over time."
   ]
  },
  {
   "cell_type": "code",
   "execution_count": null,
   "metadata": {
    "collapsed": true
   },
   "outputs": [],
   "source": [
    "world = World()\n",
    "world.create_agents()\n",
    "world.run()\n",
    "agents = world.get_agents()\n",
    "errors = world.get_errors()\n",
    "preds = world.get_pred()\n",
    "priors = world.get_priors()\n",
    "time = [t for t in range(len(errors[0]))]\n",
    "#world.print_results()"
   ]
  },
  {
   "cell_type": "code",
   "execution_count": null,
   "metadata": {
    "collapsed": true
   },
   "outputs": [],
   "source": [
    "plt.plot(time, errors[0], 'r',label=agents[0])\n",
    "plt.plot(time, errors[1], 'g', label=agents[1])\n",
    "plt.ylim([0, 1])\n",
    "plt.legend()\n",
    "plt.title(\"Agents of Chaos Prediction Error\")\n",
    "plt.show()"
   ]
  },
  {
   "cell_type": "markdown",
   "metadata": {},
   "source": [
    "## With a Dummy\n",
    "\n",
    "A dummy agent will keep a constant behavior. The chaotic agent will readjust its prediction as long as it is wrong, but not necessarily in the right direction. Sometimes the chaotic agent will reach the threshold and not adjust, but it is not guaranteed given the short time frame. However, the \"averaging\" agent, which takes an averaged features of the most recent 4 behaviors received as a benchmark for adjusting predictions, has a better chance at converging on the dummy's static behavior."
   ]
  },
  {
   "cell_type": "code",
   "execution_count": null,
   "metadata": {
    "collapsed": true
   },
   "outputs": [],
   "source": [
    "d_c_world = World(agent=[\"chaos\",\"dummy\"], seed=[1,2])\n",
    "d_c_world.create_agents()\n",
    "d_c_world.run()\n",
    "agents = d_c_world.get_agents()\n",
    "errors = d_c_world.get_errors()\n",
    "preds = d_c_world.get_pred()\n",
    "priors = d_c_world.get_priors()\n",
    "time = [t for t in range(len(errors[0]))]"
   ]
  },
  {
   "cell_type": "code",
   "execution_count": null,
   "metadata": {
    "collapsed": true
   },
   "outputs": [],
   "source": [
    "plt.plot(time, errors[0], 'r', label=agents[0])\n",
    "plt.ylim([0, 1])\n",
    "plt.legend()\n",
    "plt.title(\"Agent of Chaos Predicting a Dummy\")\n",
    "plt.show()"
   ]
  },
  {
   "cell_type": "code",
   "execution_count": null,
   "metadata": {
    "collapsed": true
   },
   "outputs": [],
   "source": [
    "d_a_world = World(agent=[\"average\",\"dummy\"], seed=[3,12], betas=[0.5,0.5])\n",
    "d_a_world.create_agents()\n",
    "d_a_world.run()\n",
    "agents = d_a_world.get_agents()\n",
    "errors = d_a_world.get_errors()\n",
    "preds = d_a_world.get_pred()\n",
    "priors = d_a_world.get_priors()\n",
    "time = [t for t in range(len(errors[0]))]"
   ]
  },
  {
   "cell_type": "code",
   "execution_count": null,
   "metadata": {
    "collapsed": true
   },
   "outputs": [],
   "source": [
    "plt.plot(time, errors[0], 'g', label=agents[0])\n",
    "plt.ylim([0, 1])\n",
    "plt.legend()\n",
    "plt.title(\"Averaging Agent Predicting a Dummy\")\n",
    "plt.show()"
   ]
  },
  {
   "cell_type": "markdown",
   "metadata": {},
   "source": [
    "## Pairing an averaging agent with a not-so-chaotic counterpart\n",
    "Instead of a dummy who has constant behavior, we can set a chaotic agent that has constant priors, but will still draw from the priors to generate variable behavior (within the bounds of those priors). The averaging agent should be able to approximate the priors, but not as easily as when the behavior was fixed."
   ]
  },
  {
   "cell_type": "code",
   "execution_count": null,
   "metadata": {
    "collapsed": true
   },
   "outputs": [],
   "source": [
    "c_a_world = World(agent=[\"average\",\"chaos\"], alphas=[0.5,0], betas=[0.5,0.2], seed=[17,115])\n",
    "c_a_world.create_agents()\n",
    "c_a_world.run()\n",
    "agents = c_a_world.get_agents()\n",
    "errors = c_a_world.get_errors()\n",
    "preds = c_a_world.get_pred()\n",
    "priors = c_a_world.get_priors()\n",
    "time = [t for t in range(len(errors[0]))]\n",
    "#c_a_world.print_results()"
   ]
  },
  {
   "cell_type": "code",
   "execution_count": null,
   "metadata": {
    "collapsed": true
   },
   "outputs": [],
   "source": [
    "plt.plot(time, errors[0], 'g', label=agents[0])\n",
    "plt.plot(time, errors[1], 'r', label=agents[1])\n",
    "plt.ylim([0, 1])\n",
    "plt.legend()\n",
    "plt.title(\"Averaging Agent + semi-dummy\")\n",
    "plt.show()"
   ]
  },
  {
   "cell_type": "markdown",
   "metadata": {},
   "source": [
    "## Two Average Joes\n",
    "We can have two averaging agents try to infer the other's priors."
   ]
  },
  {
   "cell_type": "code",
   "execution_count": null,
   "metadata": {
    "collapsed": true
   },
   "outputs": [],
   "source": [
    "a_a_world = World(agent=[\"average\",\"average\"], alphas=[0.5,0.5], betas=[0.2,0.2], seed=[17,150])\n",
    "a_a_world.create_agents()\n",
    "a_a_world.run()\n",
    "agents = a_a_world.get_agents()\n",
    "errors = a_a_world.get_errors()\n",
    "preds = a_a_world.get_pred()\n",
    "priors = a_a_world.get_priors()\n",
    "time = [t for t in range(len(errors[0]))]\n",
    "#c_a_world.print_results()"
   ]
  },
  {
   "cell_type": "code",
   "execution_count": null,
   "metadata": {
    "collapsed": true
   },
   "outputs": [],
   "source": [
    "plt.plot(time, errors[0], 'g', label=agents[0])\n",
    "plt.plot(time, errors[1], 'r', label=agents[1])\n",
    "plt.ylim([0, 1])\n",
    "plt.legend()\n",
    "plt.title(\"Averaging Agent x2\")\n",
    "plt.show()"
   ]
  },
  {
   "cell_type": "markdown",
   "metadata": {},
   "source": []
  },
  {
   "cell_type": "markdown",
   "metadata": {},
   "source": [
    "## Reducing Chaos\n",
    "It still looks a bit messy - what if we reduce the alphas (conformity adjustments)?"
   ]
  },
  {
   "cell_type": "code",
   "execution_count": null,
   "metadata": {
    "collapsed": true
   },
   "outputs": [],
   "source": [
    "a_a_world = World(agent=[\"average\",\"average\"], alphas=[0.1,0.1], betas=[0.2, 0.2], seed=[17,150])\n",
    "a_a_world.create_agents()\n",
    "a_a_world.run()\n",
    "agents = a_a_world.get_agents()\n",
    "errors = a_a_world.get_errors()\n",
    "preds = a_a_world.get_pred()\n",
    "priors = a_a_world.get_priors()\n",
    "time = [t for t in range(len(errors[0]))]\n",
    "#c_a_world.print_results()"
   ]
  },
  {
   "cell_type": "code",
   "execution_count": null,
   "metadata": {
    "collapsed": true
   },
   "outputs": [],
   "source": [
    "plt.plot(time, errors[0], 'g', label=agents[0])\n",
    "plt.plot(time, errors[1], 'r', label=agents[1])\n",
    "plt.ylim([0, 1])\n",
    "plt.legend()\n",
    "plt.title(\"Averaging Agent x2 - less chaos\")\n",
    "plt.show()"
   ]
  },
  {
   "cell_type": "markdown",
   "metadata": {},
   "source": [
    "## Tracking Past Predictions\n",
    "Instead of averaging the previous behaviors of others, we can make a prediction by sampling from priors, and then update them by averaging our previous predictions. Reminder: the averaging agent averages the behaviors of others and \n",
    "\n",
    "First, we pair a dummy with a prediction averaging agent."
   ]
  },
  {
   "cell_type": "code",
   "execution_count": null,
   "metadata": {
    "collapsed": true
   },
   "outputs": [],
   "source": [
    "d_p_world = World(agent=[\"dummy\",\"prediction\"], alphas=[0.3,0.3], betas=[0.3, 0.3], seed=[1,12])\n",
    "d_p_world.create_agents()\n",
    "d_p_world.run()\n",
    "agents = d_p_world.get_agents()\n",
    "errors = d_p_world.get_errors()\n",
    "preds = d_p_world.get_pred()\n",
    "priors = d_p_world.get_priors()\n",
    "time = [t for t in range(len(errors[0]))]\n",
    "#d_p_world.print_results()"
   ]
  },
  {
   "cell_type": "code",
   "execution_count": null,
   "metadata": {
    "collapsed": true
   },
   "outputs": [],
   "source": [
    "plt.plot(time, errors[0], 'g', label=agents[0])\n",
    "plt.plot(time, errors[1], 'r', label=agents[1])\n",
    "plt.ylim([0, 1])\n",
    "plt.legend()\n",
    "plt.title(\"Dummy x Prediction Average\")\n",
    "plt.show()"
   ]
  },
  {
   "cell_type": "code",
   "execution_count": null,
   "metadata": {
    "collapsed": true
   },
   "outputs": [],
   "source": [
    "p_p_world = World(agent=[\"prediction\",\"prediction\"], alphas=[0.3,0.3], betas=[0.3, 0.3], seed=[1,12])\n",
    "p_p_world.create_agents()\n",
    "p_p_world.run()\n",
    "agents = p_p_world.get_agents()\n",
    "errors = p_p_world.get_errors()\n",
    "preds = p_p_world.get_pred()\n",
    "priors = p_p_world.get_priors()\n",
    "time = [t for t in range(len(errors[0]))]\n",
    "#p_p_world.print_results()"
   ]
  },
  {
   "cell_type": "code",
   "execution_count": null,
   "metadata": {
    "collapsed": true
   },
   "outputs": [],
   "source": [
    "plt.plot(time, errors[0], 'g', label=agents[0])\n",
    "plt.plot(time, errors[1], 'r', label=agents[1])\n",
    "plt.ylim([0, 1])\n",
    "plt.legend()\n",
    "plt.title(\"Prediction Average x Prediction Average\")\n",
    "plt.show()"
   ]
  },
  {
   "cell_type": "markdown",
   "metadata": {},
   "source": [
    "# New model"
   ]
  },
  {
   "cell_type": "code",
   "execution_count": null,
   "metadata": {},
   "outputs": [],
   "source": [
    "import numpy as np\n",
    "np.exp(100)"
   ]
  },
  {
   "cell_type": "code",
   "execution_count": null,
   "metadata": {
    "collapsed": true
   },
   "outputs": [],
   "source": []
  },
  {
   "cell_type": "code",
   "execution_count": null,
   "metadata": {},
   "outputs": [],
   "source": [
    "from world import World \n",
    "import matplotlib.pyplot as plt\n",
    "m_m_world = World(state_size = 100, time = 10, agent=[\"model\", \"model\"], memory=[2, 2], behav_control=[1, 1], seed=100)\n",
    "m_m_world.create_agents()\n",
    "m_m_world.run()\n",
    "agents = m_m_world.get_agents()\n",
    "errors = m_m_world.get_errors()\n",
    "preds = m_m_world.get_pred()\n",
    "priors = m_m_world.get_behav_priors()\n",
    "costs = m_m_world.get_costs()\n",
    "\n",
    "time = [t for t in range(len(costs[0]))]\n",
    "# m_m_world.print_results()"
   ]
  },
  {
   "cell_type": "code",
   "execution_count": null,
   "metadata": {},
   "outputs": [],
   "source": [
    "plt.plot(time, costs[0], 'g', label=agents[0])\n",
    "plt.plot(time, costs[1], 'r', label=agents[1])\n",
    "plt.ylim([0, 1])\n",
    "plt.legend()\n",
    "plt.title(\"Averaging Agent x2\")\n",
    "plt.show()"
   ]
  },
  {
   "cell_type": "markdown",
   "metadata": {},
   "source": [
    "# New model - sigmoid"
   ]
  },
  {
   "cell_type": "code",
   "execution_count": 17,
   "metadata": {},
   "outputs": [],
   "source": [
    "from world import World \n",
    "import matplotlib.pyplot as plt\n",
    "m_m_world = World(state_size = 1000, time = 200, agent=[\"model_sig\", \"model_sig\"], \n",
    "                  memory=[4, 4], behav_control=[5, 5], \n",
    "                  seed=10\n",
    "                 )\n",
    "m_m_world.create_agents()\n",
    "m_m_world.run()\n",
    "agents = m_m_world.get_agents()\n",
    "errors = m_m_world.get_errors()\n",
    "preds = m_m_world.get_pred()\n",
    "priors = m_m_world.get_behav_priors()\n",
    "costs = m_m_world.get_costs()\n",
    "\n",
    "time = [t for t in range(len(costs[0]))]\n",
    "# m_m_world.print_results()"
   ]
  },
  {
   "cell_type": "code",
   "execution_count": 18,
   "metadata": {},
   "outputs": [
    {
     "data": {
      "image/png": "[encoded data removed]",
      "text/plain": [
       "<matplotlib.figure.Figure at 0x7fb4110af048>"
      ]
     },
     "metadata": {},
     "output_type": "display_data"
    }
   ],
   "source": [
    "plt.plot(time, costs[0], 'g', label=agents[0])\n",
    "plt.plot(time, costs[1], 'r', label=agents[1])\n",
    "plt.ylim([0, 1])\n",
    "plt.legend()\n",
    "plt.title(\"Averaging Agent x2\")\n",
    "plt.show()"
   ]
  },
  {
   "cell_type": "markdown",
   "metadata": {},
   "source": [
    "# Linear model"
   ]
  },
  {
   "cell_type": "code",
   "execution_count": 19,
   "metadata": {},
   "outputs": [],
   "source": [
    "from world import World \n",
    "import matplotlib.pyplot as plt\n",
    "m_m_world = World(state_size = 1000, time = 200, agent=[\"model_lin\", \"model_lin\"], \n",
    "                  memory=[4, 4], behav_control=[50, 50], \n",
    "                  seed=10\n",
    "                 )\n",
    "m_m_world.create_agents()\n",
    "m_m_world.run()\n",
    "agents = m_m_world.get_agents()\n",
    "errors = m_m_world.get_errors()\n",
    "preds = m_m_world.get_pred()\n",
    "priors = m_m_world.get_behav_priors()\n",
    "costs = m_m_world.get_costs()\n",
    "\n",
    "time = [t for t in range(len(costs[0]))]\n",
    "# m_m_world.print_results()"
   ]
  },
  {
   "cell_type": "code",
   "execution_count": 20,
   "metadata": {},
   "outputs": [
    {
     "data": {
      "image/png": "[encoded data removed]",
      "text/plain": [
       "<matplotlib.figure.Figure at 0x7fb4416f0f60>"
      ]
     },
     "metadata": {},
     "output_type": "display_data"
    }
   ],
   "source": [
    "plt.plot(time, costs[0], 'g', label=agents[0])\n",
    "plt.plot(time, costs[1], 'r', label=agents[1])\n",
    "plt.ylim([0, 1])\n",
    "plt.legend()\n",
    "plt.title(\"Averaging Agent x2\")\n",
    "plt.show()"
   ]
  },
  {
   "cell_type": "markdown",
   "metadata": {},
   "source": [
    "# I think we can even compare models here now, since we can use the same random seed!"
   ]
  },
  {
   "cell_type": "code",
   "execution_count": null,
   "metadata": {
    "collapsed": true
   },
   "outputs": [],
   "source": []
  },
  {
   "cell_type": "code",
   "execution_count": null,
   "metadata": {
    "collapsed": true
   },
   "outputs": [],
   "source": []
  },
  {
   "cell_type": "code",
   "execution_count": null,
   "metadata": {
    "collapsed": true
   },
   "outputs": [],
   "source": []
  }
 ],
 "metadata": {
  "interpreter": {
   "hash": "cd78fef2128015050713e82ca51c6520b11aee7c9ee8df750520bbbc7384cbaa"
  },
  "kernelspec": {
   "display_name": "Python 3",
   "language": "python",
   "name": "python3"
  },
  "language_info": {
   "codemirror_mode": {
    "name": "ipython",
    "version": 3
   },
   "file_extension": ".py",
   "mimetype": "text/x-python",
   "name": "python",
   "nbconvert_exporter": "python",
   "pygments_lexer": "ipython3",
   "version": "3.6.1"
  }
 },
 "nbformat": 4,
 "nbformat_minor": 2
}
