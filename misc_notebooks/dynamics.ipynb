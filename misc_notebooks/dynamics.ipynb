{
 "cells": [
  {
   "cell_type": "code",
   "execution_count": 155,
   "metadata": {},
   "outputs": [],
   "source": [
    "import matplotlib.pyplot as plt\n",
    "import numpy as np\n",
    "import scipy.stats as sp\n",
    "import seaborn as sns  \n",
    "sns.set_style('darkgrid')"
   ]
  },
  {
   "cell_type": "markdown",
   "metadata": {},
   "source": [
    "### Dynamics for Priors\n",
    "$prior_{t+1} = prior_t \\cdot m + b$\n",
    "\n",
    "where the attractor of the priors is $\\frac{b}{1-m}$.\n",
    "\n",
    "\n",
    "\n",
    "This means that error can be used to perturb the prior: \n",
    "\n",
    "$prior_{t+1} = (1 + error_t) \\cdot prior_t \\cdot m + b$ \n",
    "\n",
    "Of course, the values will have to be capped at 1 and 0 after error disturbance. An error of 0 will allow the prior to return to the stable attractor $\\frac{b}{1-m}$. Let's first see what these dynamics look like without disturbance from error signals.\n"
   ]
  },
  {
   "cell_type": "code",
   "execution_count": 156,
   "metadata": {},
   "outputs": [],
   "source": [
    "def dynamical(m, x, b, t):\n",
    "    out = []\n",
    "    for _ in range(t):\n",
    "        out.append(x)\n",
    "        x = m*x + b\n",
    "    return out"
   ]
  },
  {
   "cell_type": "markdown",
   "metadata": {},
   "source": [
    "##### !!!\n",
    "__NOTE:__ In these experiments I arbitrarily initialize two priors at 0.1 and 0.9 to show that dynamic will move priors towards the attractor, regardless of where they are initialized."
   ]
  },
  {
   "cell_type": "code",
   "execution_count": 157,
   "metadata": {},
   "outputs": [
    {
     "name": "stdout",
     "output_type": "stream",
     "text": [
      "attractor: 0.24909300736\n",
      "b/1-m: 0.25\n"
     ]
    },
    {
     "data": {
      "image/png": "[encoded data removed]",
      "text/plain": [
       "<Figure size 432x288 with 1 Axes>"
      ]
     },
     "metadata": {},
     "output_type": "display_data"
    }
   ],
   "source": [
    "time = 11\n",
    "m = 0.6\n",
    "init = .1\n",
    "alt_init = 0.8\n",
    "b = .1\n",
    "y = dynamical(m,init,b,time)\n",
    "alt_y = dynamical(m,alt_init,b,time)\n",
    "x = list(range(time))\n",
    "plt.scatter(x, y, c=\"blue\", label=f\"m = {m}, b = {b}\")\n",
    "plt.scatter(x, alt_y, c=\"blue\")\n",
    "plt.ylim((-.1, 1.1)) \n",
    "plt.title(\"how priors change across time in a dynamical system\")\n",
    "plt.xlabel(\"time\")\n",
    "plt.ylabel(\"prior\")\n",
    "print(\"attractor:\", y[-1])\n",
    "print(\"b/1-m:\", b/(1-m))"
   ]
  },
  {
   "cell_type": "markdown",
   "metadata": {},
   "source": [
    "###  $m$ and $b$\n",
    "Both the attractor and the rate of change towards the attractor can be manipulated with these variables. The next examples have the same attractor, with different rates at which they approach it. A reduced $m$ will cause a faster shift towards the attractor close to $b$."
   ]
  },
  {
   "cell_type": "code",
   "execution_count": 158,
   "metadata": {},
   "outputs": [
    {
     "name": "stdout",
     "output_type": "stream",
     "text": [
      "attractor: 0.59951171875\n",
      "b/1-m: 0.6\n"
     ]
    },
    {
     "data": {
      "image/png": "[encoded data removed]",
      "text/plain": [
       "<Figure size 432x288 with 1 Axes>"
      ]
     },
     "metadata": {},
     "output_type": "display_data"
    }
   ],
   "source": [
    "\n",
    "time = 11\n",
    "x = list(range(time))\n",
    "\n",
    "m = 0.5\n",
    "init = .1\n",
    "alt_init = 0.8\n",
    "b = .3\n",
    "y = dynamical(m,init,b,time)\n",
    "alt_y = dynamical(m,alt_init,b,time)\n",
    "plt.scatter(x, y, c=\"blue\", label=f\"m = {m}, b = {b}\")\n",
    "plt.scatter(x, alt_y, c=\"blue\")\n",
    "\n",
    "m1= 0.1\n",
    "init1 = .1\n",
    "alt_init1 = 0.8\n",
    "b1 = .54\n",
    "y1 = dynamical(m1,init1,b1,time)\n",
    "alt_y1 = dynamical(m1,alt_init1,b1,time)\n",
    "plt.scatter(x, y1, c=\"red\", label=f\"m = {m1}, b = {b1}\")\n",
    "plt.scatter(x, alt_y1, c=\"red\")\n",
    "\n",
    "\n",
    "plt.ylim((-.1, 1.1)) \n",
    "plt.title(\"how priors change across time in a dynamical system\")\n",
    "plt.xlabel(\"time\")\n",
    "plt.ylabel(\"prior\")\n",
    "print(\"attractor:\", y[-1])\n",
    "print(\"b/1-m:\", b/(1-m))"
   ]
  },
  {
   "cell_type": "markdown",
   "metadata": {},
   "source": [
    "### Error\n",
    "You can see above how the prior naturally settles into a stable point and the $m$ and $b$ parameters can be manipulated to result in various attractors with difference rates of change. Error can also be incorporated to act as a disturbance to the system, shifting priors away from the attractor. Notice how a lower $m$ makes the prior more resistant to disturbances. "
   ]
  },
  {
   "cell_type": "code",
   "execution_count": 374,
   "metadata": {},
   "outputs": [],
   "source": [
    "def error_dynamical(m, x, b, t, var):\n",
    "    error = np.random.uniform(-var,var,t)\n",
    "\n",
    "    out = []\n",
    "    for i in range(t):\n",
    "        out.append(x)\n",
    "        x = m*x*(1+error[i]) + b\n",
    "    return out"
   ]
  },
  {
   "cell_type": "code",
   "execution_count": 425,
   "metadata": {},
   "outputs": [
    {
     "data": {
      "text/plain": [
       "<matplotlib.legend.Legend at 0x7fdb23e8ed60>"
      ]
     },
     "execution_count": 425,
     "metadata": {},
     "output_type": "execute_result"
    },
    {
     "data": {
      "image/png": "[encoded data removed]",
      "text/plain": [
       "<Figure size 432x288 with 1 Axes>"
      ]
     },
     "metadata": {},
     "output_type": "display_data"
    }
   ],
   "source": [
    "variance = .5\n",
    "time = 21\n",
    "x = list(range(time))\n",
    "\n",
    "m = .5\n",
    "b = .3\n",
    "init = .1\n",
    "alt_init = 0.8\n",
    "\n",
    "y = error_dynamical(m,init,b,time,variance)\n",
    "alt_y = error_dynamical(m,alt_init,b,time,variance)\n",
    "plt.scatter(x, y, c=\"blue\", label=f\"m = {m}, b = {b}\")\n",
    "plt.scatter(x, alt_y, c=\"blue\")\n",
    "\n",
    "m1 = .1\n",
    "b1 = .54\n",
    "init1 = .1\n",
    "alt_init1 = 0.8\n",
    "\n",
    "y1 = error_dynamical(m1,init1,b1,time,variance)\n",
    "alt_y1 = error_dynamical(m1,alt_init1,b1,time,variance)\n",
    "plt.scatter(x, y1, c=\"red\", label=f\"m = {m1}, b = {b1}\")\n",
    "plt.scatter(x, alt_y1, c=\"red\")\n",
    "\n",
    "plt.ylim((-.1, 1.1)) \n",
    "plt.title(\"how priors change across time with error disturbance\")\n",
    "plt.xlabel(\"time\")\n",
    "plt.ylabel(\"prior\")\n",
    "plt.legend()"
   ]
  },
  {
   "cell_type": "markdown",
   "metadata": {},
   "source": [
    "### Why use such a dynamic?\n",
    "1. priors do not naturally drift towards 0 or 1 extremes\n",
    "2. we can parameterize not only the base prior that an agent drifts towards, but how quickly and how resistant that prior is to noise\n",
    "3. models can be updated to shift base priors to become more resistant to error or conformant to expectations\n",
    "4. we can build an inverse model for agents to shift their base priors in order to shift the behaviors of others\n",
    "\n",
    "How might this look? Below I will try to implement this with matrices and a state size > 1."
   ]
  },
  {
   "cell_type": "code",
   "execution_count": 427,
   "metadata": {},
   "outputs": [],
   "source": [
    "def triple_dynamical(w1, w2, w3, x, t, var):\n",
    "    #error = np.linspace(-var,var,t)\n",
    "    error = np.random.uniform(-var,var,t)\n",
    "\n",
    "    out = []\n",
    "    for i in range(t):\n",
    "        out.append(x)\n",
    "        x = x*w1 + error[i]*w2 + w3\n",
    "    return out"
   ]
  },
  {
   "cell_type": "code",
   "execution_count": 437,
   "metadata": {},
   "outputs": [
    {
     "data": {
      "text/plain": [
       "<matplotlib.legend.Legend at 0x7fdb26900f70>"
      ]
     },
     "execution_count": 437,
     "metadata": {},
     "output_type": "execute_result"
    },
    {
     "data": {
      "image/png": "[encoded data removed]",
      "text/plain": [
       "<Figure size 432x288 with 1 Axes>"
      ]
     },
     "metadata": {},
     "output_type": "display_data"
    }
   ],
   "source": [
    "variance = .4\n",
    "time = 22\n",
    "x = list(range(time))\n",
    "\n",
    "w1 = .6\n",
    "w2 = .2\n",
    "w3 = .2\n",
    "init = .1\n",
    "alt_init = 0.9\n",
    "\n",
    "y = triple_dynamical(w1, w2, w3, init, time, variance)\n",
    "alt_y = triple_dynamical(w1, w2, w3, alt_init, time, variance)\n",
    "plt.scatter(x, y, c=\"blue\", label=f\"w1 = {w1}, w2 = {w2}, w3 = {w3}\")\n",
    "plt.scatter(x, alt_y, c=\"blue\")\n",
    "\n",
    "w11 = .2\n",
    "w22 = .1\n",
    "w33 = .7\n",
    "init1 = .1\n",
    "alt_init1 = 0.9\n",
    "#y1 = triple_dynamical(w11, w22, w33, init1, time, variance)\n",
    "#alt_y1 = triple_dynamical(w11, w22, w33, alt_init1, time, variance)\n",
    "#plt.scatter(x, y1, c=\"red\", label=f\"w1 = {w11}, w2 = {w22}, w3 = {w33}\")\n",
    "#plt.scatter(x, alt_y1, c=\"red\")\n",
    "\n",
    "plt.ylim((-.1, 1.1)) \n",
    "plt.title(\"how priors change across time WITH error disturbance\")\n",
    "plt.xlabel(\"time\")\n",
    "plt.ylabel(\"prior\")\n",
    "plt.legend()"
   ]
  },
  {
   "cell_type": "code",
   "execution_count": null,
   "metadata": {},
   "outputs": [],
   "source": [
    "model = np.array([[1,2],\n",
    "                   [3,4]])\n",
    "behav = np.array([2,1])\n",
    "print(f\"inputs: \\n {model} \\n x \\n {behav}\")\n",
    "print(f\"multiplication: \\n{behav*model}\")\n",
    "print(f\"dot product: \\n{np.dot(behav,model)}\")"
   ]
  },
  {
   "cell_type": "code",
   "execution_count": null,
   "metadata": {},
   "outputs": [],
   "source": [
    "model = np.array([[1, 4],\n",
    "                  [2, 5],\n",
    "                  [3, 6]])\n",
    "behav = np.array([[1,2,1],\n",
    "                  [1,1,2]])\n",
    "print(f\"inputs: \\n {model.T} \\n x \\n {behav}\")\n",
    "print(f\"multiplication: \\n{behav*model.T}\")\n",
    "print(f\"dot product: \\n{np.dot(behav,model)}\")"
   ]
  },
  {
   "cell_type": "markdown",
   "metadata": {},
   "source": [
    "### Periodicity\n",
    "In another arrangement, priors can shift in a cyclic fashion based on a transition matrix. Here, error acts as a disturbance to the this dynamic, slowing or quickening progress along the cyclic course of states  (priors)."
   ]
  },
  {
   "cell_type": "code",
   "execution_count": 496,
   "metadata": {},
   "outputs": [],
   "source": [
    "def fun(a, x0, dt, T):\n",
    "    t = np.arange(0, T, dt)\n",
    "    x = np.zeros_like(t, dtype=complex)\n",
    "    x[0] = x0 # This is x at time t_0\n",
    "\n",
    "    # Step through system and integrate in time\n",
    "    for k in range(1, len(t)):\n",
    "        # for each point in time, compute xdot from x[k-1]\n",
    "        xdot = (a*x[k-1])\n",
    "\n",
    "        # Update x based on x[k-1] and xdot\n",
    "        x[k] = x[k-1] +  xdot * dt\n",
    "\n",
    "    return x, t"
   ]
  },
  {
   "cell_type": "code",
   "execution_count": 504,
   "metadata": {},
   "outputs": [
    {
     "data": {
      "text/plain": [
       "Text(0, 0.5, 'prior')"
      ]
     },
     "execution_count": 504,
     "metadata": {},
     "output_type": "execute_result"
    },
    {
     "data": {
      "image/png": "[encoded data removed]",
      "text/plain": [
       "<Figure size 432x288 with 1 Axes>"
      ]
     },
     "metadata": {},
     "output_type": "display_data"
    }
   ],
   "source": [
    "\n",
    "time = 7\n",
    "a = complex(0, 2)\n",
    "dt = 1\n",
    "x = 1.1\n",
    "\n",
    "y,t = fun(a, x, dt, time)\n",
    "plt.scatter(t, y, c=\"blue\")\n",
    "\n",
    "#plt.ylim((-.1, 1.1)) \n",
    "plt.title(\"experiment\")\n",
    "plt.xlabel(\"time\")\n",
    "plt.ylabel(\"prior\")\n",
    "#plt.legend()"
   ]
  },
  {
   "cell_type": "code",
   "execution_count": 614,
   "metadata": {},
   "outputs": [],
   "source": [
    "def cycle(v, A, time):\n",
    "    '''\n",
    "    v is some input vector\n",
    "    A is the transition matrix\n",
    "    time is the number of transitions\n",
    "    '''\n",
    "    x = []\n",
    "    y = []\n",
    "    t = []\n",
    "    v_prev = v\n",
    "    x.append(v[0])\n",
    "    y.append(v[1])\n",
    "    t.append(0)\n",
    "    for i in range(1, time):\n",
    "        v = 0.01+A@v\n",
    "        #d_v = np.exp(A)@v_prev\n",
    "        x.append(v[0])\n",
    "        y.append(v[1])\n",
    "        t.append(i)\n",
    "        \n",
    "    return x, y, t"
   ]
  },
  {
   "cell_type": "code",
   "execution_count": 635,
   "metadata": {},
   "outputs": [
    {
     "name": "stderr",
     "output_type": "stream",
     "text": [
      "No artists with labels found to put in legend.  Note that artists whose label start with an underscore are ignored when legend() is called with no argument.\n"
     ]
    },
    {
     "data": {
      "text/plain": [
       "<matplotlib.legend.Legend at 0x7fdac127bf40>"
      ]
     },
     "execution_count": 635,
     "metadata": {},
     "output_type": "execute_result"
    },
    {
     "data": {
      "image/png": "[encoded data removed]",
      "text/plain": [
       "<Figure size 432x288 with 1 Axes>"
      ]
     },
     "metadata": {},
     "output_type": "display_data"
    }
   ],
   "source": [
    "v = np.array([-0.5,0.5])\n",
    "A = np.array([[-1.72,-3.91],[1.56,2.97]])\n",
    "time = 150\n",
    "x,y,t = cycle(v, A, time)\n",
    "plt.scatter(x, y, c=\"blue\")\n",
    "#plt.ylim((-.1, 1.1)) \n",
    "plt.title(\"experiment\")\n",
    "plt.xlabel(\"time\")\n",
    "plt.ylabel(\"prior\")\n",
    "plt.legend()"
   ]
  },
  {
   "cell_type": "code",
   "execution_count": 589,
   "metadata": {},
   "outputs": [
    {
     "name": "stderr",
     "output_type": "stream",
     "text": [
      "No artists with labels found to put in legend.  Note that artists whose label start with an underscore are ignored when legend() is called with no argument.\n"
     ]
    },
    {
     "data": {
      "text/plain": [
       "<matplotlib.legend.Legend at 0x7fdabe7c9340>"
      ]
     },
     "execution_count": 589,
     "metadata": {},
     "output_type": "execute_result"
    },
    {
     "data": {
      "image/png": "[encoded data removed]",
      "text/plain": [
       "<Figure size 432x288 with 1 Axes>"
      ]
     },
     "metadata": {},
     "output_type": "display_data"
    }
   ],
   "source": [
    "v = np.array([-0.5,0])\n",
    "A = np.array([[0,-1],\n",
    "              [1,0]])\n",
    "time = 10\n",
    "x,y,t = cycle(v, A, time)\n",
    "plt.scatter(x, y, c=\"blue\")\n",
    "#plt.ylim((-.1, 1.1)) \n",
    "plt.title(\"experiment\")\n",
    "plt.xlabel(\"time\")\n",
    "plt.ylabel(\"prior\")\n",
    "plt.legend()"
   ]
  },
  {
   "cell_type": "code",
   "execution_count": 592,
   "metadata": {},
   "outputs": [
    {
     "name": "stdout",
     "output_type": "stream",
     "text": [
      "[[ 0.84515425+0.j          0.84515425-0.j        ]\n",
      " [-0.50608642-0.17201984j -0.50608642+0.17201984j]]\n",
      "[-0.545+0.85485379j -0.545-0.85485379j]\n"
     ]
    }
   ],
   "source": [
    "A = np.array([[-1.72,-3.91],\n",
    "              [1.56,2.97]])\n",
    "aa, bb = np.linalg.eig(A)\n",
    "got = np.diag(aa)\n",
    "print(b)\n",
    "print(a)"
   ]
  },
  {
   "cell_type": "code",
   "execution_count": 571,
   "metadata": {},
   "outputs": [
    {
     "name": "stdout",
     "output_type": "stream",
     "text": [
      "[[-1.72 -3.91]\n",
      " [ 1.56  2.97]]\n"
     ]
    }
   ],
   "source": [
    "V = b\n",
    "Vi = np.linalg.inv(V)\n",
    "D = np.diag(a)\n",
    "M = V@D@Vi\n",
    "print(M.real)"
   ]
  },
  {
   "cell_type": "code",
   "execution_count": 643,
   "metadata": {},
   "outputs": [
    {
     "name": "stdout",
     "output_type": "stream",
     "text": [
      "[[-3.06 -4.2 ]\n",
      " [ 1.68  1.97]]\n",
      "[[-0.545+0.85485379j  0.   +0.j        ]\n",
      " [ 0.   +0.j         -0.545-0.85485379j]]\n"
     ]
    },
    {
     "data": {
      "text/plain": [
       "Text(0, 0.5, 'prior')"
      ]
     },
     "execution_count": 643,
     "metadata": {},
     "output_type": "execute_result"
    },
    {
     "data": {
      "image/png": "[encoded data removed]",
      "text/plain": [
       "<Figure size 432x288 with 1 Axes>"
      ]
     },
     "metadata": {},
     "output_type": "display_data"
    }
   ],
   "source": [
    "A = np.array([[-3.06,-4.20],\n",
    "              [1.68,1.97]])\n",
    "a, b = np.linalg.eig(A)\n",
    "aa = np.array([complex(0.625, -0.77496774), complex(0.625, 0.77496774)])\n",
    "V = b\n",
    "Vi = np.linalg.inv(V)\n",
    "D = np.diag(a)\n",
    "#D = got\n",
    "M = V@D@Vi\n",
    "A = M.real\n",
    "print(M.real)\n",
    "print(D)\n",
    "\n",
    "\n",
    "v = np.array([-3,3])\n",
    "time = 250\n",
    "x,y,t = cycle(v, M.real, time)\n",
    "plt.scatter(x, y, c=\"blue\")\n",
    "#plt.ylim((-.1, 1.1)) \n",
    "plt.title(\"experiment\")\n",
    "plt.xlabel(\"time\")\n",
    "plt.ylabel(\"prior\")"
   ]
  },
  {
   "cell_type": "code",
   "execution_count": 642,
   "metadata": {},
   "outputs": [
    {
     "name": "stderr",
     "output_type": "stream",
     "text": [
      "No artists with labels found to put in legend.  Note that artists whose label start with an underscore are ignored when legend() is called with no argument.\n"
     ]
    },
    {
     "name": "stdout",
     "output_type": "stream",
     "text": [
      "[[ 0.93358043 -0.35836795]\n",
      " [ 0.35836795  0.93358043]]\n"
     ]
    },
    {
     "data": {
      "image/png": "[encoded data removed]",
      "text/plain": [
       "<Figure size 432x288 with 1 Axes>"
      ]
     },
     "metadata": {},
     "output_type": "display_data"
    }
   ],
   "source": [
    "theta = np.radians(21)\n",
    "c, s = np.cos(theta), np.sin(theta)\n",
    "R = np.array(((c, -s), (s, c)))\n",
    "print(R)\n",
    "v = np.array([-0.5,0])\n",
    "time = 25\n",
    "x,y,t = cycle(v, R, time)\n",
    "plt.scatter(x, y, c=\"blue\")\n",
    "#plt.ylim((-.1, 1.1)) \n",
    "plt.title(\"experiment\")\n",
    "plt.xlabel(\"time\")\n",
    "plt.ylabel(\"prior\")\n",
    "plt.legend()\n",
    "ax = plt.gca()\n",
    "ax.set_aspect('equal', adjustable='box')"
   ]
  },
  {
   "cell_type": "code",
   "execution_count": 705,
   "metadata": {},
   "outputs": [
    {
     "name": "stdout",
     "output_type": "stream",
     "text": [
      "[[-1.72 -3.91]\n",
      " [ 1.56  2.97]]\n",
      "[[0.625+0.77496774j 0.   +0.j        ]\n",
      " [0.   +0.j         0.625-0.77496774j]]\n"
     ]
    },
    {
     "data": {
      "text/plain": [
       "Text(0, 0.5, 'prior')"
      ]
     },
     "execution_count": 705,
     "metadata": {},
     "output_type": "execute_result"
    },
    {
     "data": {
      "image/png": "[encoded data removed]",
      "text/plain": [
       "<Figure size 432x288 with 1 Axes>"
      ]
     },
     "metadata": {},
     "output_type": "display_data"
    }
   ],
   "source": [
    "A = np.array([[-1.72,-3.91],\n",
    "              [1.56,2.97]])\n",
    "a, b = np.linalg.eig(A)\n",
    "V = b\n",
    "Vi = np.linalg.inv(V)\n",
    "D = np.diag(a)\n",
    "#D = got\n",
    "M = V@D@Vi\n",
    "print(M.real)\n",
    "print(D)\n",
    "\n",
    "\n",
    "v = np.array([-3,3])\n",
    "dt = 0.01\n",
    "time = 150\n",
    "x,y,t = cycle(v, A, time)\n",
    "plt.scatter(x, y, c=\"blue\")\n",
    "#plt.ylim((-.1, 1.1)) \n",
    "plt.title(\"experiment\")\n",
    "plt.xlabel(\"time\")\n",
    "plt.ylabel(\"prior\")"
   ]
  },
  {
   "cell_type": "code",
   "execution_count": 698,
   "metadata": {},
   "outputs": [],
   "source": [
    "def cycler(v, A, dt, time):\n",
    "    '''\n",
    "    v is some input vector\n",
    "    A is the transition matrix\n",
    "    time is the number of transitions\n",
    "    '''\n",
    "    x = []\n",
    "    y = []\n",
    "    t = []\n",
    "    v_prev = v\n",
    "    x.append(v[0])\n",
    "    y.append(v[1])\n",
    "    t.append(0)\n",
    "    for i in range(1, time):\n",
    "        #v = A@v\n",
    "        vdot = A@v\n",
    "        v = v + vdot*dt\n",
    "        #d_v = np.exp(A)@v_prev\n",
    "        x.append(v[0])\n",
    "        y.append(v[1])\n",
    "        t.append(i)\n",
    "        \n",
    "    return x, y, t"
   ]
  },
  {
   "cell_type": "code",
   "execution_count": 696,
   "metadata": {},
   "outputs": [
    {
     "data": {
      "text/plain": [
       "Text(0, 0.5, 'y')"
      ]
     },
     "execution_count": 696,
     "metadata": {},
     "output_type": "execute_result"
    },
    {
     "data": {
      "image/png": "[encoded data removed]",
      "text/plain": [
       "<Figure size 432x288 with 1 Axes>"
      ]
     },
     "metadata": {},
     "output_type": "display_data"
    }
   ],
   "source": [
    "A = np.array([[ 0.93358043, -0.35836795],\n",
    " [ 0.35836795,  0.93358043]])\n",
    "v = np.array([0,5])\n",
    "dt = 0.1\n",
    "#a, b = np.linalg.eig(A)\n",
    "#V = b\n",
    "#Vi = np.linalg.inv(V)\n",
    "#D = np.diag(a)\n",
    "#D = got\n",
    "#M = V@D@Vi\n",
    "#A = M.real\n",
    "#print(M.real)\n",
    "#print(D)\n",
    "\n",
    "\n",
    "time = 60\n",
    "x,y,t = cycle(v, A, time)\n",
    "plt.scatter(x, y, c=\"blue\")\n",
    "#plt.ylim((-.1, 1.1)) \n",
    "plt.title(\"experiment\")\n",
    "plt.xlabel(\"x\")\n",
    "plt.ylabel(\"y\")"
   ]
  },
  {
   "cell_type": "code",
   "execution_count": null,
   "metadata": {},
   "outputs": [],
   "source": []
  },
  {
   "cell_type": "code",
   "execution_count": null,
   "metadata": {},
   "outputs": [],
   "source": []
  }
 ],
 "metadata": {
  "interpreter": {
   "hash": "cd78fef2128015050713e82ca51c6520b11aee7c9ee8df750520bbbc7384cbaa"
  },
  "kernelspec": {
   "display_name": "Python 3.9.7 ('base')",
   "language": "python",
   "name": "python3"
  },
  "language_info": {
   "codemirror_mode": {
    "name": "ipython",
    "version": 3
   },
   "file_extension": ".py",
   "mimetype": "text/x-python",
   "name": "python",
   "nbconvert_exporter": "python",
   "pygments_lexer": "ipython3",
   "version": "3.9.7"
  },
  "orig_nbformat": 4
 },
 "nbformat": 4,
 "nbformat_minor": 2
}
