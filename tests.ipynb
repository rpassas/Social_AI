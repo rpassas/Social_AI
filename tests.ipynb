{
 "cells": [
  {
   "cell_type": "code",
   "execution_count": 1,
   "metadata": {},
   "outputs": [],
   "source": [
    "from world_alt import World \n",
    "from agents.agent_dummy import Agent_Dummy\n",
    "from agents.agent_with_alt_sigmoid_model import Agent_with_Alt_Sigmoid_Model\n",
    "from agents.agent_of_chaos import Agent_of_Chaos\n",
    "import matplotlib.pyplot as plt\n",
    "import numpy as np\n",
    "import scipy.stats as sp\n",
    "import itertools as it\n",
    "import util\n",
    "import pandas as pd"
   ]
  },
  {
   "cell_type": "code",
   "execution_count": null,
   "metadata": {},
   "outputs": [],
   "source": [
    "agent_a = Agent_with_Alt_Sigmoid_Model()\n",
    "agent_b = Agent_with_Alt_Sigmoid_Model()\n",
    "m_m_world = World(time = 100, agent=[agent_a, agent_b])\n",
    "\n",
    "m_m_world.run()\n",
    "agents = m_m_world.get_agents()\n",
    "errors = m_m_world.get_errors()\n",
    "preds = m_m_world.get_pred()\n",
    "priors = m_m_world.get_behav_priors()\n",
    "costs = m_m_world.get_costs()\n",
    "\n",
    "time = [t for t in range(len(costs[0]))]\n",
    "#m_m_world.print_results()"
   ]
  },
  {
   "cell_type": "code",
   "execution_count": null,
   "metadata": {},
   "outputs": [],
   "source": [
    "plt.figure(facecolor='white') \n",
    "plt.plot(time, costs[0], 'g', label=agents[0])\n",
    "plt.plot(time, costs[1], 'r', label=agents[1])\n",
    "plt.ylim([0, 1])\n",
    "plt.legend()\n",
    "plt.title(\"Model Agent x2\")\n",
    "plt.show()"
   ]
  }
 ],
 "metadata": {
  "interpreter": {
   "hash": "cd78fef2128015050713e82ca51c6520b11aee7c9ee8df750520bbbc7384cbaa"
  },
  "kernelspec": {
   "display_name": "Python 3.9.7 ('base')",
   "language": "python",
   "name": "python3"
  },
  "language_info": {
   "codemirror_mode": {
    "name": "ipython",
    "version": 3
   },
   "file_extension": ".py",
   "mimetype": "text/x-python",
   "name": "python",
   "nbconvert_exporter": "python",
   "pygments_lexer": "ipython3",
   "version": "3.9.7"
  },
  "orig_nbformat": 4
 },
 "nbformat": 4,
 "nbformat_minor": 2
}
