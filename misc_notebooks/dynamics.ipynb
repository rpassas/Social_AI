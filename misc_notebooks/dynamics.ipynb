{
 "cells": [
  {
   "cell_type": "code",
   "execution_count": 155,
   "metadata": {},
   "outputs": [],
   "source": [
    "import matplotlib.pyplot as plt\n",
    "import numpy as np\n",
    "import scipy.stats as sp\n",
    "import seaborn as sns  \n",
    "sns.set_style('darkgrid')"
   ]
  },
  {
   "cell_type": "markdown",
   "metadata": {},
   "source": [
    "### Dynamics for Priors\n",
    "$prior_{t+1} = prior_t \\cdot m + b$\n",
    "\n",
    "where the attractor of the priors is $\\frac{b}{1-m}$.\n",
    "\n",
    "\n",
    "\n",
    "This means that error can be used to perturb the prior: \n",
    "\n",
    "$prior_{t+1} = (1 + error_t) \\cdot prior_t \\cdot m + b$ \n",
    "\n",
    "Of course, the values will have to be capped at 1 and 0 after error disturbance. An error of 0 will allow the prior to return to the stable attractor $\\frac{b}{1-m}$. Let's first see what these dynamics look like without disturbance from error signals.\n"
   ]
  },
  {
   "cell_type": "code",
   "execution_count": 156,
   "metadata": {},
   "outputs": [],
   "source": [
    "def dynamical(m, x, b, t):\n",
    "    out = []\n",
    "    for _ in range(t):\n",
    "        out.append(x)\n",
    "        x = m*x + b\n",
    "    return out"
   ]
  },
  {
   "cell_type": "markdown",
   "metadata": {},
   "source": [
    "\n",
    "__NOTE:__ In these experiments I arbitrarily initialize the priors at 0.1 and 0.9 to show the dynamics of the attractor"
   ]
  },
  {
   "cell_type": "code",
   "execution_count": 157,
   "metadata": {},
   "outputs": [
    {
     "name": "stdout",
     "output_type": "stream",
     "text": [
      "attractor: 0.24909300736\n",
      "b/1-m: 0.25\n"
     ]
    },
    {
     "data": {
      "image/png": "[encoded data removed]",
      "text/plain": [
       "<Figure size 432x288 with 1 Axes>"
      ]
     },
     "metadata": {},
     "output_type": "display_data"
    }
   ],
   "source": [
    "time = 11\n",
    "m = 0.6\n",
    "init = .1\n",
    "alt_init = 0.8\n",
    "b = .1\n",
    "y = dynamical(m,init,b,time)\n",
    "alt_y = dynamical(m,alt_init,b,time)\n",
    "x = list(range(time))\n",
    "plt.scatter(x, y, c=\"blue\", label=f\"m = {m}, b = {b}\")\n",
    "plt.scatter(x, alt_y, c=\"blue\")\n",
    "plt.ylim((-.1, 1.1)) \n",
    "plt.title(\"how priors change across time in a dynamical system\")\n",
    "plt.xlabel(\"time\")\n",
    "plt.ylabel(\"prior\")\n",
    "print(\"attractor:\", y[-1])\n",
    "print(\"b/1-m:\", b/(1-m))"
   ]
  },
  {
   "cell_type": "markdown",
   "metadata": {},
   "source": [
    "###  $m$ and $b$\n",
    "Both the attractor and the rate of change towards the attractor can be manipulated with these variables. The next examples have the same attractor, with different rates at which they approach it. A reduced $m$ will cause a faster shift towards the attractor close to $b$."
   ]
  },
  {
   "cell_type": "code",
   "execution_count": 158,
   "metadata": {},
   "outputs": [
    {
     "name": "stdout",
     "output_type": "stream",
     "text": [
      "attractor: 0.59951171875\n",
      "b/1-m: 0.6\n"
     ]
    },
    {
     "data": {
      "image/png": "[encoded data removed]",
      "text/plain": [
       "<Figure size 432x288 with 1 Axes>"
      ]
     },
     "metadata": {},
     "output_type": "display_data"
    }
   ],
   "source": [
    "\n",
    "time = 11\n",
    "x = list(range(time))\n",
    "\n",
    "m = 0.5\n",
    "init = .1\n",
    "alt_init = 0.8\n",
    "b = .3\n",
    "y = dynamical(m,init,b,time)\n",
    "alt_y = dynamical(m,alt_init,b,time)\n",
    "plt.scatter(x, y, c=\"blue\", label=f\"m = {m}, b = {b}\")\n",
    "plt.scatter(x, alt_y, c=\"blue\")\n",
    "\n",
    "m1= 0.1\n",
    "init1 = .1\n",
    "alt_init1 = 0.8\n",
    "b1 = .54\n",
    "y1 = dynamical(m1,init1,b1,time)\n",
    "alt_y1 = dynamical(m1,alt_init1,b1,time)\n",
    "plt.scatter(x, y1, c=\"red\", label=f\"m = {m1}, b = {b1}\")\n",
    "plt.scatter(x, alt_y1, c=\"red\")\n",
    "\n",
    "\n",
    "plt.ylim((-.1, 1.1)) \n",
    "plt.title(\"how priors change across time in a dynamical system\")\n",
    "plt.xlabel(\"time\")\n",
    "plt.ylabel(\"prior\")\n",
    "print(\"attractor:\", y[-1])\n",
    "print(\"b/1-m:\", b/(1-m))"
   ]
  },
  {
   "cell_type": "markdown",
   "metadata": {},
   "source": [
    "### Error\n",
    "You can see above how the prior naturally settles into a stable point and the $m$ and $b$ parameters can be manipulated to result in various attractors with difference rates of change. Error can also be incorporated to act as a disturbance to the system, shifting priors away from the attractor. Notice how a lower $m$ makes the prior more resistant to disturbances. "
   ]
  },
  {
   "cell_type": "code",
   "execution_count": 159,
   "metadata": {},
   "outputs": [],
   "source": [
    "def error_dynamical(m, x, b, t, var):\n",
    "    error = np.random.uniform(-var,var,t)\n",
    "    out = []\n",
    "    for i in range(t):\n",
    "        out.append(x)\n",
    "        x = m*(max(min((x*(1+error[i]),1)), 0)) + b\n",
    "    return out"
   ]
  },
  {
   "cell_type": "code",
   "execution_count": 164,
   "metadata": {},
   "outputs": [
    {
     "data": {
      "text/plain": [
       "<matplotlib.legend.Legend at 0x7fdb3659efa0>"
      ]
     },
     "execution_count": 164,
     "metadata": {},
     "output_type": "execute_result"
    },
    {
     "data": {
      "image/png": "[encoded data removed]",
      "text/plain": [
       "<Figure size 432x288 with 1 Axes>"
      ]
     },
     "metadata": {},
     "output_type": "display_data"
    }
   ],
   "source": [
    "variance = .3\n",
    "time = 21\n",
    "x = list(range(time))\n",
    "\n",
    "m = 0.5\n",
    "init = .1\n",
    "alt_init = 0.8\n",
    "b = .3\n",
    "y = error_dynamical(m,init,b,time,variance)\n",
    "alt_y = error_dynamical(m,alt_init,b,time,variance)\n",
    "plt.scatter(x, y, c=\"blue\", label=f\"m = {m}, b = {b}\")\n",
    "plt.scatter(x, alt_y, c=\"blue\")\n",
    "\n",
    "m1= 0.1\n",
    "init1 = .1\n",
    "alt_init1 = 0.8\n",
    "b1 = .54\n",
    "y1 = error_dynamical(m1,init1,b1,time,variance)\n",
    "alt_y1 = error_dynamical(m1,alt_init1,b1,time,variance)\n",
    "plt.scatter(x, y1, c=\"red\", label=f\"m = {m1}, b = {b1}\")\n",
    "plt.scatter(x, alt_y1, c=\"red\")\n",
    "\n",
    "plt.ylim((-.1, 1.1)) \n",
    "plt.title(\"how priors change across time with error disturbance\")\n",
    "plt.xlabel(\"time\")\n",
    "plt.ylabel(\"prior\")\n",
    "plt.legend()"
   ]
  },
  {
   "cell_type": "markdown",
   "metadata": {},
   "source": [
    "### Why use such a dynamic?\n",
    "1. priors do not naturally drift towards 0 or 1 extremes\n",
    "2. we can parameterize not only the base prior that an agent drifts towards, but how quickly and how resistant that prior is to noise\n",
    "3. models can be updated to shift base priors to become more resistant to error or conformant to expectations\n",
    "4. we can build an inverse model for agents to shift their base priors in order to shift the behaviors of others\n",
    "\n",
    "How might this look? Below I will try to implement this with matrices and a state size > 1."
   ]
  },
  {
   "cell_type": "markdown",
   "metadata": {},
   "source": []
  }
 ],
 "metadata": {
  "interpreter": {
   "hash": "cd78fef2128015050713e82ca51c6520b11aee7c9ee8df750520bbbc7384cbaa"
  },
  "kernelspec": {
   "display_name": "Python 3.9.7 ('base')",
   "language": "python",
   "name": "python3"
  },
  "language_info": {
   "codemirror_mode": {
    "name": "ipython",
    "version": 3
   },
   "file_extension": ".py",
   "mimetype": "text/x-python",
   "name": "python",
   "nbconvert_exporter": "python",
   "pygments_lexer": "ipython3",
   "version": "3.9.7"
  },
  "orig_nbformat": 4
 },
 "nbformat": 4,
 "nbformat_minor": 2
}
