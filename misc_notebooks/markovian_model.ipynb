{
 "cells": [
  {
   "cell_type": "code",
   "execution_count": 1,
   "metadata": {},
   "outputs": [],
   "source": [
    "import matplotlib.pyplot as plt\n",
    "import numpy as np\n",
    "import scipy.stats as sp\n",
    "import seaborn as sns  \n",
    "sns.set_style('darkgrid')"
   ]
  },
  {
   "cell_type": "code",
   "execution_count": 57,
   "metadata": {},
   "outputs": [
    {
     "name": "stdout",
     "output_type": "stream",
     "text": [
      "Agent 1 - prob of 1 given 0: 1.0, probe of 1 given 1: 0.0\n",
      "Agent 2 - prob of 1 given 0: 1.0, probe of 1 given 1: 0.0\n"
     ]
    }
   ],
   "source": [
    "# M[0] = given a 0, probability of a 1\n",
    "# M[1] = given a 1, probability of a 1\n",
    "M1 = [0.8, 0.1]\n",
    "M2 = [0.3, 0.9]\n",
    "time = 500\n",
    "alpha = 0.99\n",
    "for t in range(time):\n",
    "    if t == 0:\n",
    "        B1_prev = np.random.binomial(1, sum(M1)/2)\n",
    "        B2_prev = np.random.binomial(1, sum(M2)/2)\n",
    "    B1_curr = np.random.binomial(1, M1[B2_prev])\n",
    "    B2_curr = np.random.binomial(1, M2[B1_prev])\n",
    "    E1 = B2_curr - M1[B2_prev]\n",
    "    E2 = B1_curr - M2[B1_prev]\n",
    "    M1[B2_prev] = M1[B2_prev] + E1*alpha\n",
    "    M2[B1_prev] = M2[B1_prev] + E2*alpha\n",
    "    B1_prev = B1_curr\n",
    "    B2_prev = B2_curr\n",
    "print(f\"Agent 1 - prob of 1 given 0: {M1[0]}, prob of 1 given 1: {M1[1]}\")\n",
    "print(f\"Agent 2 - prob of 1 given 0: {M2[0]}, prob of 1 given 1: {M2[1]}\")\n",
    "\n"
   ]
  },
  {
   "cell_type": "code",
   "execution_count": 76,
   "metadata": {},
   "outputs": [
    {
     "name": "stdout",
     "output_type": "stream",
     "text": [
      "Agent 1 - prob of 1 given 0: 0.8758898284120099, probe of 1 given 1: 0.849227887924426\n",
      "Agent 2 - prob of 1 given 0: 0.8604541051765473, probe of 1 given 1: 0.9280865359472021\n"
     ]
    }
   ],
   "source": [
    "# M[0] = given a 0, probability of a 1\n",
    "# M[1] = given a 1, probability of a 1\n",
    "M1 = [0.8, 0.1]\n",
    "M2 = [0.3, 0.9]\n",
    "time = 500\n",
    "alpha = 0.05\n",
    "for t in range(time):\n",
    "    if t == 0:\n",
    "        B1_prev = np.random.binomial(1, sum(M1)/2)\n",
    "        B2_prev = np.random.binomial(1, sum(M2)/2)\n",
    "    B1_curr = np.random.binomial(1, M1[B2_prev])\n",
    "    B2_curr = np.random.binomial(1, M2[B1_prev])\n",
    "    E1 = B2_curr - M1[B2_prev]\n",
    "    E2 = B1_curr - M2[B1_prev]\n",
    "    M1[B2_prev] = M1[B2_prev] + E1*alpha\n",
    "    M2[B1_prev] = M2[B1_prev] + E2*alpha\n",
    "    B1_prev = B1_curr\n",
    "    B2_prev = B2_curr\n",
    "print(f\"Agent 1 - prob of 1 given 0: {M1[0]}, prob of 1 given 1: {M1[1]}\")\n",
    "print(f\"Agent 2 - prob of 1 given 0: {M2[0]}, prob of 1 given 1: {M2[1]}\")"
   ]
  },
  {
   "cell_type": "markdown",
   "metadata": {},
   "source": [
    "Let's see what happens if the agents actually make predictions"
   ]
  },
  {
   "cell_type": "code",
   "execution_count": 92,
   "metadata": {},
   "outputs": [
    {
     "name": "stdout",
     "output_type": "stream",
     "text": [
      "Agent 1 - prob of 1 given 0: 0.0, probe of 1 given 1: 0.06907291089680392\n",
      "Agent 2 - prob of 1 given 0: 0.0, probe of 1 given 1: 0.010745249229187202\n"
     ]
    }
   ],
   "source": [
    "# M[0] = given a 0, probability of a 1\n",
    "# M[1] = given a 1, probability of a 1\n",
    "M1 = [0.8, 0.7]\n",
    "M2 = [0.3, 0.9]\n",
    "time = 500\n",
    "alpha = 0.5\n",
    "for t in range(time):\n",
    "    if t == 0:\n",
    "        B1_prev = np.random.binomial(1, sum(M1)/2)\n",
    "        B2_prev = np.random.binomial(1, sum(M2)/2)\n",
    "    B1_curr = np.random.binomial(1, M1[B2_prev])\n",
    "    B2_curr = np.random.binomial(1, M2[B1_prev])\n",
    "    #E1 = B2_curr - np.random.binomial(1, M1[B2_prev])\n",
    "    #E2 = B1_curr - np.random.binomial(1, M2[B1_prev])\n",
    "    M1[B2_prev] = M1[B2_prev] * (sum(M1)/2) \n",
    "    M2[B1_prev] = M2[B1_prev] * (sum(M2)/2)\n",
    "    B1_prev = B1_curr\n",
    "    B2_prev = B2_curr\n",
    "print(f\"Agent 1 - prob of 1 given 0: {M1[0]}, prob of 1 given 1: {M1[1]}\")\n",
    "print(f\"Agent 2 - prob of 1 given 0: {M2[0]}, prob of 1 given 1: {M2[1]}\")"
   ]
  },
  {
   "cell_type": "markdown",
   "metadata": {},
   "source": [
    "Error adjusts the mean of the model, but if a state could have more than two outcomes (categorical), then error could also impact the variance in addition to the mean probabilities. This means that error not only adjusts the the beliefs and behaviors towards a better prediction, but introduces noise. No prediction error will mean a reduction in variance or increasing confidence in a model."
   ]
  },
  {
   "cell_type": "code",
   "execution_count": null,
   "metadata": {},
   "outputs": [],
   "source": []
  },
  {
   "cell_type": "code",
   "execution_count": null,
   "metadata": {},
   "outputs": [],
   "source": []
  }
 ],
 "metadata": {
  "interpreter": {
   "hash": "cd78fef2128015050713e82ca51c6520b11aee7c9ee8df750520bbbc7384cbaa"
  },
  "kernelspec": {
   "display_name": "Python 3.9.7 ('base')",
   "language": "python",
   "name": "python3"
  },
  "language_info": {
   "codemirror_mode": {
    "name": "ipython",
    "version": 3
   },
   "file_extension": ".py",
   "mimetype": "text/x-python",
   "name": "python",
   "nbconvert_exporter": "python",
   "pygments_lexer": "ipython3",
   "version": "3.9.7"
  },
  "orig_nbformat": 4
 },
 "nbformat": 4,
 "nbformat_minor": 2
}
